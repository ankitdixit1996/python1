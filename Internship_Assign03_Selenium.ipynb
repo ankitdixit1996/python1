{
 "cells": [
  {
   "cell_type": "markdown",
   "id": "49090862",
   "metadata": {},
   "source": [
    "# Web Scrapping using Selenium"
   ]
  },
  {
   "cell_type": "code",
   "execution_count": 268,
   "id": "a1c0b00d",
   "metadata": {},
   "outputs": [],
   "source": [
    "# Import all the required libraries\n",
    "import selenium\n",
    "from selenium import webdriver\n",
    "import pandas as pd\n",
    "import time\n",
    "\n",
    "import warnings\n",
    "warnings.filterwarnings('ignore')"
   ]
  },
  {
   "cell_type": "code",
   "execution_count": 2,
   "id": "23883471",
   "metadata": {},
   "outputs": [],
   "source": [
    "#Connect to webdriver\n",
    "driver=webdriver.Chrome(r'C:/Users/Dazzle/Documents/chromedriver.exe')"
   ]
  },
  {
   "cell_type": "markdown",
   "id": "8dab4b28",
   "metadata": {},
   "source": [
    "## Q1. Write a python program to scrape data for “Data Analyst” Job position in “Bangalore” location. You have to scrape the job-title, job-location, company_name, experience_required. You have to scrape first 10 jobs data. "
   ]
  },
  {
   "cell_type": "markdown",
   "id": "a5a18a17",
   "metadata": {},
   "source": [
    "### 1. First get the webpage https://www.naukri.com/"
   ]
  },
  {
   "cell_type": "code",
   "execution_count": 3,
   "id": "304ee806",
   "metadata": {},
   "outputs": [],
   "source": [
    "url1='https://www.naukri.com/'\n",
    "driver.get(url1)"
   ]
  },
  {
   "cell_type": "markdown",
   "id": "dbd3060f",
   "metadata": {},
   "source": [
    "### 2. Enter “Data Analyst” in “Skill, Designations, Companies” field and enter “Bangalore” in “enter the location” field."
   ]
  },
  {
   "cell_type": "code",
   "execution_count": 4,
   "id": "805a48a5",
   "metadata": {},
   "outputs": [],
   "source": [
    "src_job1=driver.find_element_by_id('qsb-keyword-sugg')\n",
    "src_job1.send_keys(\"Data Analyst\")"
   ]
  },
  {
   "cell_type": "code",
   "execution_count": 5,
   "id": "e70b7d2b",
   "metadata": {},
   "outputs": [],
   "source": [
    "src_loc1=driver.find_element_by_id('qsb-location-sugg')\n",
    "src_loc1.send_keys('Bangalore')"
   ]
  },
  {
   "cell_type": "markdown",
   "id": "e839174b",
   "metadata": {},
   "source": [
    "### 3. Then click the search button."
   ]
  },
  {
   "cell_type": "code",
   "execution_count": 6,
   "id": "2fe90a17",
   "metadata": {},
   "outputs": [],
   "source": [
    "btn_clk1=driver.find_element_by_xpath(\"//div[@class='search-btn']/button\")\n",
    "btn_clk1.click()"
   ]
  },
  {
   "cell_type": "markdown",
   "id": "28e11a7e",
   "metadata": {},
   "source": [
    "### 4. Then scrape the data for the first 10 jobs results you get. "
   ]
  },
  {
   "cell_type": "code",
   "execution_count": 7,
   "id": "8d741304",
   "metadata": {},
   "outputs": [],
   "source": [
    "job_title1=[]\n",
    "job_loc1=[]\n",
    "company_name1=[]\n",
    "exp_req1=[]"
   ]
  },
  {
   "cell_type": "code",
   "execution_count": 8,
   "id": "a4fa9275",
   "metadata": {},
   "outputs": [
    {
     "data": {
      "text/plain": [
       "['Data Analyst',\n",
       " 'Business Data Analyst(BigId) - Capco - Bangalore',\n",
       " 'Data Analyst - Flipkart Analytics',\n",
       " 'Senior Data Analyst',\n",
       " 'Sr Data Analyst',\n",
       " 'Business Data Analyst - Database Design/Mining',\n",
       " 'Opportunity For Business Data Analyst',\n",
       " 'Urgent Openings For Data Analyst / Business Analyst',\n",
       " 'Software Technologist II - Data Analyst',\n",
       " 'Hiring For Data Analyst - Payment System Intelligence']"
      ]
     },
     "execution_count": 8,
     "metadata": {},
     "output_type": "execute_result"
    }
   ],
   "source": [
    "#Job Title\n",
    "title1=driver.find_elements_by_xpath(\"//div[@class='info fleft']/a\")\n",
    "title1[0:10]\n",
    "\n",
    "for i in title1 :\n",
    "    t1=i.text\n",
    "    job_title1.append(t1)\n",
    "job_title1[0:10]"
   ]
  },
  {
   "cell_type": "code",
   "execution_count": 9,
   "id": "d8aed433",
   "metadata": {},
   "outputs": [
    {
     "data": {
      "text/plain": [
       "['Bangalore/Bengaluru',\n",
       " 'Bangalore/Bengaluru',\n",
       " 'Bangalore/Bengaluru(Bellandur)',\n",
       " 'Bangalore/Bengaluru',\n",
       " 'Bangalore/Bengaluru',\n",
       " 'Bangalore/Bengaluru',\n",
       " 'Bangalore/Bengaluru, Mumbai (All Areas)',\n",
       " 'Bangalore/Bengaluru',\n",
       " 'Bangalore/Bengaluru',\n",
       " 'Gurgaon/Gurugram, Bangalore/Bengaluru, Mumbai (All Areas)']"
      ]
     },
     "execution_count": 9,
     "metadata": {},
     "output_type": "execute_result"
    }
   ],
   "source": [
    "#Job location\n",
    "loc1=driver.find_elements_by_xpath(\"//li[@class='fleft grey-text br2 placeHolderLi location']/span[1]\")\n",
    "loc1[0:10]\n",
    "\n",
    "for i in loc1 :\n",
    "    l1=i.text\n",
    "    job_loc1.append(l1)\n",
    "job_loc1[0:10]"
   ]
  },
  {
   "cell_type": "code",
   "execution_count": 10,
   "id": "51c5b42a",
   "metadata": {},
   "outputs": [
    {
     "data": {
      "text/plain": [
       "['Rupeek Fintech Pvt Ltd',\n",
       " 'Capco Technologies Pvt Ltd',\n",
       " 'Flipkart',\n",
       " 'Pioneer Business Solutions',\n",
       " 'Pioneer Business Solutions',\n",
       " 'AugmatrixGo',\n",
       " 'Botree Software International Private Limited',\n",
       " 'Flipkart',\n",
       " 'Philips India Limited',\n",
       " 'Genpact']"
      ]
     },
     "execution_count": 10,
     "metadata": {},
     "output_type": "execute_result"
    }
   ],
   "source": [
    "#Company name\n",
    "company1=driver.find_elements_by_xpath(\"//div[@class='mt-7 companyInfo subheading lh16']/a[1]\")\n",
    "company1[0:10]\n",
    "\n",
    "for i in company1 :\n",
    "    c1=i.text\n",
    "    company_name1.append(c1)\n",
    "company_name1[0:10]"
   ]
  },
  {
   "cell_type": "code",
   "execution_count": 11,
   "id": "9a810503",
   "metadata": {},
   "outputs": [
    {
     "data": {
      "text/plain": [
       "['0-2 Yrs',\n",
       " '3-8 Yrs',\n",
       " '0-3 Yrs',\n",
       " '6-11 Yrs',\n",
       " '3-8 Yrs',\n",
       " '2-5 Yrs',\n",
       " '3-6 Yrs',\n",
       " '1-6 Yrs',\n",
       " '6-11 Yrs',\n",
       " '4-9 Yrs']"
      ]
     },
     "execution_count": 11,
     "metadata": {},
     "output_type": "execute_result"
    }
   ],
   "source": [
    "#Experience Required\n",
    "exp1=driver.find_elements_by_xpath(\"//li[@class='fleft grey-text br2 placeHolderLi experience']/span[1]\")\n",
    "exp1[0:10]\n",
    "\n",
    "for i in exp1 :\n",
    "    e1=i.text\n",
    "    exp_req1.append(e1)\n",
    "exp_req1[0:10]"
   ]
  },
  {
   "cell_type": "code",
   "execution_count": 12,
   "id": "1cd43113",
   "metadata": {},
   "outputs": [
    {
     "name": "stdout",
     "output_type": "stream",
     "text": [
      "20 20 20 20\n"
     ]
    }
   ],
   "source": [
    "#Check size of arrays\n",
    "print(len(job_title1),len(job_loc1),len(company_name1),len(exp_req1))"
   ]
  },
  {
   "cell_type": "markdown",
   "id": "36e2afd6",
   "metadata": {},
   "source": [
    "### 5. Finally create a dataframe of the scraped data. "
   ]
  },
  {
   "cell_type": "code",
   "execution_count": 13,
   "id": "129cfdeb",
   "metadata": {},
   "outputs": [
    {
     "data": {
      "text/html": [
       "<div>\n",
       "<style scoped>\n",
       "    .dataframe tbody tr th:only-of-type {\n",
       "        vertical-align: middle;\n",
       "    }\n",
       "\n",
       "    .dataframe tbody tr th {\n",
       "        vertical-align: top;\n",
       "    }\n",
       "\n",
       "    .dataframe thead th {\n",
       "        text-align: right;\n",
       "    }\n",
       "</style>\n",
       "<table border=\"1\" class=\"dataframe\">\n",
       "  <thead>\n",
       "    <tr style=\"text-align: right;\">\n",
       "      <th></th>\n",
       "      <th>Title</th>\n",
       "      <th>Location</th>\n",
       "      <th>Company</th>\n",
       "      <th>Experience</th>\n",
       "    </tr>\n",
       "  </thead>\n",
       "  <tbody>\n",
       "    <tr>\n",
       "      <th>0</th>\n",
       "      <td>Data Analyst</td>\n",
       "      <td>Bangalore/Bengaluru</td>\n",
       "      <td>Rupeek Fintech Pvt Ltd</td>\n",
       "      <td>0-2 Yrs</td>\n",
       "    </tr>\n",
       "    <tr>\n",
       "      <th>1</th>\n",
       "      <td>Business Data Analyst(BigId) - Capco - Bangalore</td>\n",
       "      <td>Bangalore/Bengaluru</td>\n",
       "      <td>Capco Technologies Pvt Ltd</td>\n",
       "      <td>3-8 Yrs</td>\n",
       "    </tr>\n",
       "    <tr>\n",
       "      <th>2</th>\n",
       "      <td>Data Analyst - Flipkart Analytics</td>\n",
       "      <td>Bangalore/Bengaluru(Bellandur)</td>\n",
       "      <td>Flipkart</td>\n",
       "      <td>0-3 Yrs</td>\n",
       "    </tr>\n",
       "    <tr>\n",
       "      <th>3</th>\n",
       "      <td>Senior Data Analyst</td>\n",
       "      <td>Bangalore/Bengaluru</td>\n",
       "      <td>Pioneer Business Solutions</td>\n",
       "      <td>6-11 Yrs</td>\n",
       "    </tr>\n",
       "    <tr>\n",
       "      <th>4</th>\n",
       "      <td>Sr Data Analyst</td>\n",
       "      <td>Bangalore/Bengaluru</td>\n",
       "      <td>Pioneer Business Solutions</td>\n",
       "      <td>3-8 Yrs</td>\n",
       "    </tr>\n",
       "    <tr>\n",
       "      <th>5</th>\n",
       "      <td>Business Data Analyst - Database Design/Mining</td>\n",
       "      <td>Bangalore/Bengaluru</td>\n",
       "      <td>AugmatrixGo</td>\n",
       "      <td>2-5 Yrs</td>\n",
       "    </tr>\n",
       "    <tr>\n",
       "      <th>6</th>\n",
       "      <td>Opportunity For Business Data Analyst</td>\n",
       "      <td>Bangalore/Bengaluru, Mumbai (All Areas)</td>\n",
       "      <td>Botree Software International Private Limited</td>\n",
       "      <td>3-6 Yrs</td>\n",
       "    </tr>\n",
       "    <tr>\n",
       "      <th>7</th>\n",
       "      <td>Urgent Openings For Data Analyst / Business An...</td>\n",
       "      <td>Bangalore/Bengaluru</td>\n",
       "      <td>Flipkart</td>\n",
       "      <td>1-6 Yrs</td>\n",
       "    </tr>\n",
       "    <tr>\n",
       "      <th>8</th>\n",
       "      <td>Software Technologist II - Data Analyst</td>\n",
       "      <td>Bangalore/Bengaluru</td>\n",
       "      <td>Philips India Limited</td>\n",
       "      <td>6-11 Yrs</td>\n",
       "    </tr>\n",
       "    <tr>\n",
       "      <th>9</th>\n",
       "      <td>Hiring For Data Analyst - Payment System Intel...</td>\n",
       "      <td>Gurgaon/Gurugram, Bangalore/Bengaluru, Mumbai ...</td>\n",
       "      <td>Genpact</td>\n",
       "      <td>4-9 Yrs</td>\n",
       "    </tr>\n",
       "  </tbody>\n",
       "</table>\n",
       "</div>"
      ],
      "text/plain": [
       "                                               Title  \\\n",
       "0                                       Data Analyst   \n",
       "1   Business Data Analyst(BigId) - Capco - Bangalore   \n",
       "2                  Data Analyst - Flipkart Analytics   \n",
       "3                                Senior Data Analyst   \n",
       "4                                    Sr Data Analyst   \n",
       "5     Business Data Analyst - Database Design/Mining   \n",
       "6              Opportunity For Business Data Analyst   \n",
       "7  Urgent Openings For Data Analyst / Business An...   \n",
       "8            Software Technologist II - Data Analyst   \n",
       "9  Hiring For Data Analyst - Payment System Intel...   \n",
       "\n",
       "                                            Location  \\\n",
       "0                                Bangalore/Bengaluru   \n",
       "1                                Bangalore/Bengaluru   \n",
       "2                     Bangalore/Bengaluru(Bellandur)   \n",
       "3                                Bangalore/Bengaluru   \n",
       "4                                Bangalore/Bengaluru   \n",
       "5                                Bangalore/Bengaluru   \n",
       "6            Bangalore/Bengaluru, Mumbai (All Areas)   \n",
       "7                                Bangalore/Bengaluru   \n",
       "8                                Bangalore/Bengaluru   \n",
       "9  Gurgaon/Gurugram, Bangalore/Bengaluru, Mumbai ...   \n",
       "\n",
       "                                         Company Experience  \n",
       "0                         Rupeek Fintech Pvt Ltd    0-2 Yrs  \n",
       "1                     Capco Technologies Pvt Ltd    3-8 Yrs  \n",
       "2                                       Flipkart    0-3 Yrs  \n",
       "3                     Pioneer Business Solutions   6-11 Yrs  \n",
       "4                     Pioneer Business Solutions    3-8 Yrs  \n",
       "5                                    AugmatrixGo    2-5 Yrs  \n",
       "6  Botree Software International Private Limited    3-6 Yrs  \n",
       "7                                       Flipkart    1-6 Yrs  \n",
       "8                          Philips India Limited   6-11 Yrs  \n",
       "9                                        Genpact    4-9 Yrs  "
      ]
     },
     "execution_count": 13,
     "metadata": {},
     "output_type": "execute_result"
    }
   ],
   "source": [
    "df1=pd.DataFrame({})\n",
    "df1['Title']=job_title1[0:10]\n",
    "df1['Location']=job_loc1[0:10]\n",
    "df1['Company']=company_name1[0:10]\n",
    "df1['Experience']=exp_req1[0:10]\n",
    "\n",
    "df1"
   ]
  },
  {
   "cell_type": "code",
   "execution_count": 14,
   "id": "fa9b6423",
   "metadata": {},
   "outputs": [],
   "source": [
    "#driver.close()"
   ]
  },
  {
   "cell_type": "markdown",
   "id": "26d30947",
   "metadata": {},
   "source": [
    "## Q2: Write a python program to scrape data for “Data Scientist” Job position in “Bangalore” location. You have to scrape the job-title, job-location, company_name. You have to scrape first 10 jobs data. "
   ]
  },
  {
   "cell_type": "markdown",
   "id": "a4f9a900",
   "metadata": {},
   "source": [
    "### 1. First get the webpage https://www.naukri.com/"
   ]
  },
  {
   "cell_type": "code",
   "execution_count": 15,
   "id": "4434077a",
   "metadata": {},
   "outputs": [],
   "source": [
    "url2='https://www.naukri.com/'\n",
    "driver.get(url2)"
   ]
  },
  {
   "cell_type": "markdown",
   "id": "e51e02cc",
   "metadata": {},
   "source": [
    "### 2. Enter “Data Scientist” in “Skill, Designations, Companies” field and enter “Bangalore” in “enter the location” field. "
   ]
  },
  {
   "cell_type": "code",
   "execution_count": 16,
   "id": "1d7b6fd1",
   "metadata": {},
   "outputs": [],
   "source": [
    "src_job2=driver.find_element_by_id('qsb-keyword-sugg')\n",
    "src_job2.send_keys(\"Data Scientist\")"
   ]
  },
  {
   "cell_type": "code",
   "execution_count": 17,
   "id": "512a5cb2",
   "metadata": {},
   "outputs": [],
   "source": [
    "src_loc2=driver.find_element_by_id('qsb-location-sugg')\n",
    "src_loc2.send_keys('Bangalore')"
   ]
  },
  {
   "cell_type": "markdown",
   "id": "49aadcfd",
   "metadata": {},
   "source": [
    "### 3. Then click the search button"
   ]
  },
  {
   "cell_type": "code",
   "execution_count": 18,
   "id": "c2ba3947",
   "metadata": {},
   "outputs": [],
   "source": [
    "btn_clk2=driver.find_element_by_xpath(\"//div[@class='search-btn']/button\")\n",
    "btn_clk2.click()"
   ]
  },
  {
   "cell_type": "markdown",
   "id": "e1a59f44",
   "metadata": {},
   "source": [
    "### 4. Then scrape the data for the first 10 jobs results you get."
   ]
  },
  {
   "cell_type": "code",
   "execution_count": 19,
   "id": "21d05bed",
   "metadata": {},
   "outputs": [],
   "source": [
    "job_title2=[]\n",
    "job_loc2=[]\n",
    "company_name2=[]"
   ]
  },
  {
   "cell_type": "code",
   "execution_count": 20,
   "id": "d1c38d86",
   "metadata": {},
   "outputs": [
    {
     "data": {
      "text/plain": [
       "['Process Innovation Analyst - APAC/Data Scientist - Third Party Role',\n",
       " 'Data Scientist: Advanced Analytics',\n",
       " 'Data Scientist: Artificial Intelligence',\n",
       " 'Senior Data Scientist',\n",
       " 'Senior Data Scientist - Computer Vision',\n",
       " 'Senior Data Scientist | Fortune 500 Supermarket Chain',\n",
       " 'Data Scientist /Senior Data Scientist',\n",
       " 'Data Scientist',\n",
       " 'Lead Data Scientist',\n",
       " 'Lead Data Scientist']"
      ]
     },
     "execution_count": 20,
     "metadata": {},
     "output_type": "execute_result"
    }
   ],
   "source": [
    "#Job Title\n",
    "ttl2=driver.find_elements_by_xpath(\"//div[@class='info fleft']/a\")\n",
    "ttl2[0:10]\n",
    "\n",
    "for i in ttl2 :\n",
    "    t2=i.text\n",
    "    job_title2.append(t2)\n",
    "job_title2[0:10]"
   ]
  },
  {
   "cell_type": "code",
   "execution_count": 21,
   "id": "13562488",
   "metadata": {},
   "outputs": [
    {
     "data": {
      "text/plain": [
       "['Bangalore/Bengaluru, Hyderabad',\n",
       " 'Bangalore/Bengaluru',\n",
       " 'Bangalore/Bengaluru',\n",
       " 'Bangalore/Bengaluru',\n",
       " 'Bangalore/Bengaluru',\n",
       " 'Bangalore/Bengaluru',\n",
       " 'Chennai, Bangalore/Bengaluru',\n",
       " 'Bangalore/Bengaluru',\n",
       " 'Mumbai, Pune, Bangalore/Bengaluru',\n",
       " 'Bangalore/Bengaluru, Delhi / NCR, Mumbai (All Areas)']"
      ]
     },
     "execution_count": 21,
     "metadata": {},
     "output_type": "execute_result"
    }
   ],
   "source": [
    "#Job location\n",
    "loc2=driver.find_elements_by_xpath(\"//li[@class='fleft grey-text br2 placeHolderLi location']/span[1]\")\n",
    "loc2[0:10]\n",
    "\n",
    "for i in loc2 :\n",
    "    l2=i.text\n",
    "    job_loc2.append(l2)\n",
    "job_loc2[0:10]"
   ]
  },
  {
   "cell_type": "code",
   "execution_count": 22,
   "id": "a1ebb676",
   "metadata": {},
   "outputs": [
    {
     "data": {
      "text/plain": [
       "['Bayer',\n",
       " 'IBM India Pvt. Limited',\n",
       " 'IBM India Pvt. Limited',\n",
       " 'Kwalee India Pvt Ltd.',\n",
       " 'GE Transportation',\n",
       " 'TALENT500 TECH (INDIA) PRIVATE LIMITED',\n",
       " 'Dun & Bradstreet',\n",
       " 'Visa',\n",
       " 'Team4Progress',\n",
       " 'TransOrg Solutions Services (P) Ltd.']"
      ]
     },
     "execution_count": 22,
     "metadata": {},
     "output_type": "execute_result"
    }
   ],
   "source": [
    "#Company name\n",
    "company2=driver.find_elements_by_xpath(\"//div[@class='mt-7 companyInfo subheading lh16']/a[1]\")\n",
    "company2[0:10]\n",
    "\n",
    "for i in company2 :\n",
    "    c2=i.text\n",
    "    company_name2.append(c2)\n",
    "company_name2[0:10]"
   ]
  },
  {
   "cell_type": "code",
   "execution_count": 23,
   "id": "7425e04c",
   "metadata": {},
   "outputs": [
    {
     "name": "stdout",
     "output_type": "stream",
     "text": [
      "20 20 20\n"
     ]
    }
   ],
   "source": [
    "#Check size of arrays\n",
    "print(len(job_title2),len(job_loc2),len(company_name2))"
   ]
  },
  {
   "cell_type": "markdown",
   "id": "9691ed8b",
   "metadata": {},
   "source": [
    "### 5. Finally create a dataframe of the scraped data. "
   ]
  },
  {
   "cell_type": "code",
   "execution_count": 24,
   "id": "5acbf01a",
   "metadata": {},
   "outputs": [
    {
     "data": {
      "text/html": [
       "<div>\n",
       "<style scoped>\n",
       "    .dataframe tbody tr th:only-of-type {\n",
       "        vertical-align: middle;\n",
       "    }\n",
       "\n",
       "    .dataframe tbody tr th {\n",
       "        vertical-align: top;\n",
       "    }\n",
       "\n",
       "    .dataframe thead th {\n",
       "        text-align: right;\n",
       "    }\n",
       "</style>\n",
       "<table border=\"1\" class=\"dataframe\">\n",
       "  <thead>\n",
       "    <tr style=\"text-align: right;\">\n",
       "      <th></th>\n",
       "      <th>Title</th>\n",
       "      <th>Location</th>\n",
       "      <th>Company</th>\n",
       "    </tr>\n",
       "  </thead>\n",
       "  <tbody>\n",
       "    <tr>\n",
       "      <th>0</th>\n",
       "      <td>Process Innovation Analyst - APAC/Data Scienti...</td>\n",
       "      <td>Bangalore/Bengaluru, Hyderabad</td>\n",
       "      <td>Bayer</td>\n",
       "    </tr>\n",
       "    <tr>\n",
       "      <th>1</th>\n",
       "      <td>Data Scientist: Advanced Analytics</td>\n",
       "      <td>Bangalore/Bengaluru</td>\n",
       "      <td>IBM India Pvt. Limited</td>\n",
       "    </tr>\n",
       "    <tr>\n",
       "      <th>2</th>\n",
       "      <td>Data Scientist: Artificial Intelligence</td>\n",
       "      <td>Bangalore/Bengaluru</td>\n",
       "      <td>IBM India Pvt. Limited</td>\n",
       "    </tr>\n",
       "    <tr>\n",
       "      <th>3</th>\n",
       "      <td>Senior Data Scientist</td>\n",
       "      <td>Bangalore/Bengaluru</td>\n",
       "      <td>Kwalee India Pvt Ltd.</td>\n",
       "    </tr>\n",
       "    <tr>\n",
       "      <th>4</th>\n",
       "      <td>Senior Data Scientist - Computer Vision</td>\n",
       "      <td>Bangalore/Bengaluru</td>\n",
       "      <td>GE Transportation</td>\n",
       "    </tr>\n",
       "    <tr>\n",
       "      <th>5</th>\n",
       "      <td>Senior Data Scientist | Fortune 500 Supermarke...</td>\n",
       "      <td>Bangalore/Bengaluru</td>\n",
       "      <td>TALENT500 TECH (INDIA) PRIVATE LIMITED</td>\n",
       "    </tr>\n",
       "    <tr>\n",
       "      <th>6</th>\n",
       "      <td>Data Scientist /Senior Data Scientist</td>\n",
       "      <td>Chennai, Bangalore/Bengaluru</td>\n",
       "      <td>Dun &amp; Bradstreet</td>\n",
       "    </tr>\n",
       "    <tr>\n",
       "      <th>7</th>\n",
       "      <td>Data Scientist</td>\n",
       "      <td>Bangalore/Bengaluru</td>\n",
       "      <td>Visa</td>\n",
       "    </tr>\n",
       "    <tr>\n",
       "      <th>8</th>\n",
       "      <td>Lead Data Scientist</td>\n",
       "      <td>Mumbai, Pune, Bangalore/Bengaluru</td>\n",
       "      <td>Team4Progress</td>\n",
       "    </tr>\n",
       "    <tr>\n",
       "      <th>9</th>\n",
       "      <td>Lead Data Scientist</td>\n",
       "      <td>Bangalore/Bengaluru, Delhi / NCR, Mumbai (All ...</td>\n",
       "      <td>TransOrg Solutions Services (P) Ltd.</td>\n",
       "    </tr>\n",
       "  </tbody>\n",
       "</table>\n",
       "</div>"
      ],
      "text/plain": [
       "                                               Title  \\\n",
       "0  Process Innovation Analyst - APAC/Data Scienti...   \n",
       "1                 Data Scientist: Advanced Analytics   \n",
       "2            Data Scientist: Artificial Intelligence   \n",
       "3                              Senior Data Scientist   \n",
       "4            Senior Data Scientist - Computer Vision   \n",
       "5  Senior Data Scientist | Fortune 500 Supermarke...   \n",
       "6              Data Scientist /Senior Data Scientist   \n",
       "7                                     Data Scientist   \n",
       "8                                Lead Data Scientist   \n",
       "9                                Lead Data Scientist   \n",
       "\n",
       "                                            Location  \\\n",
       "0                     Bangalore/Bengaluru, Hyderabad   \n",
       "1                                Bangalore/Bengaluru   \n",
       "2                                Bangalore/Bengaluru   \n",
       "3                                Bangalore/Bengaluru   \n",
       "4                                Bangalore/Bengaluru   \n",
       "5                                Bangalore/Bengaluru   \n",
       "6                       Chennai, Bangalore/Bengaluru   \n",
       "7                                Bangalore/Bengaluru   \n",
       "8                  Mumbai, Pune, Bangalore/Bengaluru   \n",
       "9  Bangalore/Bengaluru, Delhi / NCR, Mumbai (All ...   \n",
       "\n",
       "                                  Company  \n",
       "0                                   Bayer  \n",
       "1                  IBM India Pvt. Limited  \n",
       "2                  IBM India Pvt. Limited  \n",
       "3                   Kwalee India Pvt Ltd.  \n",
       "4                       GE Transportation  \n",
       "5  TALENT500 TECH (INDIA) PRIVATE LIMITED  \n",
       "6                        Dun & Bradstreet  \n",
       "7                                    Visa  \n",
       "8                           Team4Progress  \n",
       "9    TransOrg Solutions Services (P) Ltd.  "
      ]
     },
     "execution_count": 24,
     "metadata": {},
     "output_type": "execute_result"
    }
   ],
   "source": [
    "df2=pd.DataFrame({})\n",
    "df2['Title']=job_title2[0:10]\n",
    "df2['Location']=job_loc2[0:10]\n",
    "df2['Company']=company_name2[0:10]\n",
    "\n",
    "df2"
   ]
  },
  {
   "cell_type": "markdown",
   "id": "16c4feea",
   "metadata": {},
   "source": [
    "## Q3: In this question you have to scrape data using the filters available on the webpage"
   ]
  },
  {
   "cell_type": "markdown",
   "id": "6dfa6bd4",
   "metadata": {},
   "source": [
    "### 1. first get the webpage https://www.naukri.com/"
   ]
  },
  {
   "cell_type": "code",
   "execution_count": 25,
   "id": "ca34ad15",
   "metadata": {},
   "outputs": [],
   "source": [
    "url3='https://www.naukri.com/'\n",
    "driver.get(url3)"
   ]
  },
  {
   "cell_type": "markdown",
   "id": "ea23be98",
   "metadata": {},
   "source": [
    "### 2. Enter “Data Scientist” in “Skill, Designations, and Companies” field. "
   ]
  },
  {
   "cell_type": "code",
   "execution_count": 26,
   "id": "653c542b",
   "metadata": {},
   "outputs": [],
   "source": [
    "src_job3=driver.find_element_by_id(\"qsb-keyword-sugg\")\n",
    "src_job3.send_keys('Data Scientist')"
   ]
  },
  {
   "cell_type": "markdown",
   "id": "777f7720",
   "metadata": {},
   "source": [
    "### 3. Then click the search button."
   ]
  },
  {
   "cell_type": "code",
   "execution_count": 27,
   "id": "e3906370",
   "metadata": {},
   "outputs": [],
   "source": [
    "src_btn3=driver.find_element_by_xpath(\"//div[@class='search-btn']/button\")\n",
    "src_btn3.click()"
   ]
  },
  {
   "cell_type": "markdown",
   "id": "d74c2994",
   "metadata": {},
   "source": [
    "### 4. Then apply the location filter and salary filter by checking the respective boxes "
   ]
  },
  {
   "cell_type": "code",
   "execution_count": 28,
   "id": "753ec4c5",
   "metadata": {},
   "outputs": [],
   "source": [
    "loc_filter=driver.find_element_by_xpath(\"//div[@class='filters']//div[@class='filterContainer bgWhite br4'][3]//div[@class='mt-8 chckBoxCont'][3]\")\n",
    "loc_filter.click()"
   ]
  },
  {
   "cell_type": "code",
   "execution_count": 29,
   "id": "e7b1f38a",
   "metadata": {},
   "outputs": [],
   "source": [
    "sal_filter=driver.find_element_by_xpath(\"//div[@class='filters']//div[@class='filterContainer bgWhite br4'][4]//div[@class='mt-8 chckBoxCont'][2]\")\n",
    "sal_filter.click()"
   ]
  },
  {
   "cell_type": "markdown",
   "id": "8a6873a7",
   "metadata": {},
   "source": [
    "### 5. Then scrape the data for the first 10 jobs results you get. "
   ]
  },
  {
   "cell_type": "code",
   "execution_count": 30,
   "id": "e03e50e5",
   "metadata": {},
   "outputs": [],
   "source": [
    "job_title3=[]\n",
    "job_loc3=[]\n",
    "company_name3=[]\n",
    "exp_req3=[]"
   ]
  },
  {
   "cell_type": "code",
   "execution_count": 31,
   "id": "c673ff0b",
   "metadata": {},
   "outputs": [
    {
     "data": {
      "text/plain": [
       "['Data Scientist',\n",
       " 'Data Scientist',\n",
       " 'Data Scientist III-2',\n",
       " 'Job Opportunity || Data Scientist || HCL Technologies',\n",
       " 'Data Scientist',\n",
       " 'Data Scientist',\n",
       " 'Urgent Hiring || Data Scientist || Delhi',\n",
       " 'Data Scientist',\n",
       " 'Data Scientist',\n",
       " 'Data Scientist Internship']"
      ]
     },
     "execution_count": 31,
     "metadata": {},
     "output_type": "execute_result"
    }
   ],
   "source": [
    "#Job Title\n",
    "title3=driver.find_elements_by_xpath(\"//div[@class='info fleft']/a\")\n",
    "title3[0:10]\n",
    "\n",
    "for i in title3 :\n",
    "    t3=i.text\n",
    "    job_title3.append(t3)\n",
    "job_title3[0:10]"
   ]
  },
  {
   "cell_type": "code",
   "execution_count": 32,
   "id": "3d232a56",
   "metadata": {},
   "outputs": [
    {
     "data": {
      "text/plain": [
       "['Kochi/Cochin, Kolkata, Hyderabad/Secunderabad, Pune, Ahmedabad, Chennai, Bangalore/Bengaluru, Delhi / NCR, Mumbai (All Areas)',\n",
       " 'Pune, Bangalore/Bengaluru, Delhi / NCR',\n",
       " 'Gurgaon/Gurugram',\n",
       " 'Delhi / NCR',\n",
       " 'Noida(Sector-126 Noida)',\n",
       " 'Noida(Sector-126 Noida)',\n",
       " 'Delhi / NCR',\n",
       " 'Noida',\n",
       " 'Bharuch, Jaipur, Bhopal, Mumbai, Jhansi, Nagpur, Ghaziabad, Jaunpur, Kanpur, Delhi, Lucknow, Agra, Gurgaon, Rajkot, Bengaluru',\n",
       " 'New Delhi']"
      ]
     },
     "execution_count": 32,
     "metadata": {},
     "output_type": "execute_result"
    }
   ],
   "source": [
    "#Job location\n",
    "loc3=driver.find_elements_by_xpath(\"//li[@class='fleft grey-text br2 placeHolderLi location']/span[1]\")\n",
    "loc3[0:10]\n",
    "\n",
    "for i in loc3 :\n",
    "    l3=i.text\n",
    "    job_loc3.append(l3)\n",
    "job_loc3[0:10]"
   ]
  },
  {
   "cell_type": "code",
   "execution_count": 33,
   "id": "04ee5bf4",
   "metadata": {},
   "outputs": [
    {
     "data": {
      "text/plain": [
       "['Think i',\n",
       " 'ThinkBumblebee Analytics Pvt. Ltd.',\n",
       " 'Concentrix Daksh Services',\n",
       " 'HCL Technologies',\n",
       " 'MoMagic Technologies Pvt. Ltd.',\n",
       " 'MoMagic Technologies Pvt. Ltd.',\n",
       " 'Shriram Automall India Limited',\n",
       " 'SVK Global Solutions Private Limited',\n",
       " 'Country Veggie',\n",
       " 'iHackers Inc']"
      ]
     },
     "execution_count": 33,
     "metadata": {},
     "output_type": "execute_result"
    }
   ],
   "source": [
    "#Company name\n",
    "company3=driver.find_elements_by_xpath(\"//div[@class='mt-7 companyInfo subheading lh16']/a[1]\")\n",
    "company3[0:10]\n",
    "\n",
    "for i in company3 :\n",
    "    c3=i.text\n",
    "    company_name3.append(c3)\n",
    "company_name3[0:10]"
   ]
  },
  {
   "cell_type": "code",
   "execution_count": 34,
   "id": "f971337c",
   "metadata": {},
   "outputs": [
    {
     "data": {
      "text/plain": [
       "['0-2 Yrs',\n",
       " '2-6 Yrs',\n",
       " '3-8 Yrs',\n",
       " '4-7 Yrs',\n",
       " '4-6 Yrs',\n",
       " '4-6 Yrs',\n",
       " '2-7 Yrs',\n",
       " '6-10 Yrs',\n",
       " '1-3 Yrs',\n",
       " '0-1 Yrs']"
      ]
     },
     "execution_count": 34,
     "metadata": {},
     "output_type": "execute_result"
    }
   ],
   "source": [
    "#Experience Required\n",
    "exp3=driver.find_elements_by_xpath(\"//li[@class='fleft grey-text br2 placeHolderLi experience']/span[1]\")\n",
    "exp3[0:10]\n",
    "\n",
    "for i in exp3 :\n",
    "    e3=i.text\n",
    "    exp_req3.append(e3)\n",
    "exp_req3[0:10]"
   ]
  },
  {
   "cell_type": "code",
   "execution_count": 35,
   "id": "e6a17f38",
   "metadata": {},
   "outputs": [
    {
     "name": "stdout",
     "output_type": "stream",
     "text": [
      "20 20 20 20\n"
     ]
    }
   ],
   "source": [
    "#Check size of arrays\n",
    "print(len(job_title3),len(job_loc3),len(company_name3),len(exp_req3))"
   ]
  },
  {
   "cell_type": "markdown",
   "id": "9952b486",
   "metadata": {},
   "source": [
    "### 6. Finally create a dataframe of the scraped data. "
   ]
  },
  {
   "cell_type": "code",
   "execution_count": 36,
   "id": "1e5dbe9b",
   "metadata": {},
   "outputs": [
    {
     "data": {
      "text/html": [
       "<div>\n",
       "<style scoped>\n",
       "    .dataframe tbody tr th:only-of-type {\n",
       "        vertical-align: middle;\n",
       "    }\n",
       "\n",
       "    .dataframe tbody tr th {\n",
       "        vertical-align: top;\n",
       "    }\n",
       "\n",
       "    .dataframe thead th {\n",
       "        text-align: right;\n",
       "    }\n",
       "</style>\n",
       "<table border=\"1\" class=\"dataframe\">\n",
       "  <thead>\n",
       "    <tr style=\"text-align: right;\">\n",
       "      <th></th>\n",
       "      <th>Title</th>\n",
       "      <th>Location</th>\n",
       "      <th>Company</th>\n",
       "      <th>Experience</th>\n",
       "    </tr>\n",
       "  </thead>\n",
       "  <tbody>\n",
       "    <tr>\n",
       "      <th>0</th>\n",
       "      <td>Data Scientist</td>\n",
       "      <td>Kochi/Cochin, Kolkata, Hyderabad/Secunderabad,...</td>\n",
       "      <td>Think i</td>\n",
       "      <td>0-2 Yrs</td>\n",
       "    </tr>\n",
       "    <tr>\n",
       "      <th>1</th>\n",
       "      <td>Data Scientist</td>\n",
       "      <td>Pune, Bangalore/Bengaluru, Delhi / NCR</td>\n",
       "      <td>ThinkBumblebee Analytics Pvt. Ltd.</td>\n",
       "      <td>2-6 Yrs</td>\n",
       "    </tr>\n",
       "    <tr>\n",
       "      <th>2</th>\n",
       "      <td>Data Scientist III-2</td>\n",
       "      <td>Gurgaon/Gurugram</td>\n",
       "      <td>Concentrix Daksh Services</td>\n",
       "      <td>3-8 Yrs</td>\n",
       "    </tr>\n",
       "    <tr>\n",
       "      <th>3</th>\n",
       "      <td>Job Opportunity || Data Scientist || HCL Techn...</td>\n",
       "      <td>Delhi / NCR</td>\n",
       "      <td>HCL Technologies</td>\n",
       "      <td>4-7 Yrs</td>\n",
       "    </tr>\n",
       "    <tr>\n",
       "      <th>4</th>\n",
       "      <td>Data Scientist</td>\n",
       "      <td>Noida(Sector-126 Noida)</td>\n",
       "      <td>MoMagic Technologies Pvt. Ltd.</td>\n",
       "      <td>4-6 Yrs</td>\n",
       "    </tr>\n",
       "    <tr>\n",
       "      <th>5</th>\n",
       "      <td>Data Scientist</td>\n",
       "      <td>Noida(Sector-126 Noida)</td>\n",
       "      <td>MoMagic Technologies Pvt. Ltd.</td>\n",
       "      <td>4-6 Yrs</td>\n",
       "    </tr>\n",
       "    <tr>\n",
       "      <th>6</th>\n",
       "      <td>Urgent Hiring || Data Scientist || Delhi</td>\n",
       "      <td>Delhi / NCR</td>\n",
       "      <td>Shriram Automall India Limited</td>\n",
       "      <td>2-7 Yrs</td>\n",
       "    </tr>\n",
       "    <tr>\n",
       "      <th>7</th>\n",
       "      <td>Data Scientist</td>\n",
       "      <td>Noida</td>\n",
       "      <td>SVK Global Solutions Private Limited</td>\n",
       "      <td>6-10 Yrs</td>\n",
       "    </tr>\n",
       "    <tr>\n",
       "      <th>8</th>\n",
       "      <td>Data Scientist</td>\n",
       "      <td>Bharuch, Jaipur, Bhopal, Mumbai, Jhansi, Nagpu...</td>\n",
       "      <td>Country Veggie</td>\n",
       "      <td>1-3 Yrs</td>\n",
       "    </tr>\n",
       "    <tr>\n",
       "      <th>9</th>\n",
       "      <td>Data Scientist Internship</td>\n",
       "      <td>New Delhi</td>\n",
       "      <td>iHackers Inc</td>\n",
       "      <td>0-1 Yrs</td>\n",
       "    </tr>\n",
       "  </tbody>\n",
       "</table>\n",
       "</div>"
      ],
      "text/plain": [
       "                                               Title  \\\n",
       "0                                     Data Scientist   \n",
       "1                                     Data Scientist   \n",
       "2                               Data Scientist III-2   \n",
       "3  Job Opportunity || Data Scientist || HCL Techn...   \n",
       "4                                     Data Scientist   \n",
       "5                                     Data Scientist   \n",
       "6           Urgent Hiring || Data Scientist || Delhi   \n",
       "7                                     Data Scientist   \n",
       "8                                     Data Scientist   \n",
       "9                          Data Scientist Internship   \n",
       "\n",
       "                                            Location  \\\n",
       "0  Kochi/Cochin, Kolkata, Hyderabad/Secunderabad,...   \n",
       "1             Pune, Bangalore/Bengaluru, Delhi / NCR   \n",
       "2                                   Gurgaon/Gurugram   \n",
       "3                                        Delhi / NCR   \n",
       "4                            Noida(Sector-126 Noida)   \n",
       "5                            Noida(Sector-126 Noida)   \n",
       "6                                        Delhi / NCR   \n",
       "7                                              Noida   \n",
       "8  Bharuch, Jaipur, Bhopal, Mumbai, Jhansi, Nagpu...   \n",
       "9                                          New Delhi   \n",
       "\n",
       "                                Company Experience  \n",
       "0                               Think i    0-2 Yrs  \n",
       "1    ThinkBumblebee Analytics Pvt. Ltd.    2-6 Yrs  \n",
       "2             Concentrix Daksh Services    3-8 Yrs  \n",
       "3                      HCL Technologies    4-7 Yrs  \n",
       "4        MoMagic Technologies Pvt. Ltd.    4-6 Yrs  \n",
       "5        MoMagic Technologies Pvt. Ltd.    4-6 Yrs  \n",
       "6        Shriram Automall India Limited    2-7 Yrs  \n",
       "7  SVK Global Solutions Private Limited   6-10 Yrs  \n",
       "8                        Country Veggie    1-3 Yrs  \n",
       "9                          iHackers Inc    0-1 Yrs  "
      ]
     },
     "execution_count": 36,
     "metadata": {},
     "output_type": "execute_result"
    }
   ],
   "source": [
    "df3=pd.DataFrame({})\n",
    "df3['Title']=job_title3[0:10]\n",
    "df3['Location']=job_loc3[0:10]\n",
    "df3['Company']=company_name3[0:10]\n",
    "df3['Experience']=exp_req3[0:10]\n",
    "\n",
    "df3"
   ]
  },
  {
   "cell_type": "markdown",
   "id": "a572a36f",
   "metadata": {},
   "source": [
    "## Q4: Scrape data of first 100 sunglasses listings on flipkart.com. You have to scrape four attributes: 1. Brand 2. Product Description 3. Price"
   ]
  },
  {
   "cell_type": "markdown",
   "id": "ee515c62",
   "metadata": {},
   "source": [
    "### 1. Go to Flipkart webpage by url : https://www.flipkart.com/"
   ]
  },
  {
   "cell_type": "code",
   "execution_count": 314,
   "id": "ff6da750",
   "metadata": {},
   "outputs": [],
   "source": [
    "url4='https://www.flipkart.com/'\n",
    "driver.get(url4)"
   ]
  },
  {
   "cell_type": "markdown",
   "id": "46bb7d35",
   "metadata": {},
   "source": [
    "### 2. Enter “sunglasses” in the search field where “search for products, brands and more” is written and click the search icon "
   ]
  },
  {
   "cell_type": "code",
   "execution_count": 315,
   "id": "7cd25f33",
   "metadata": {},
   "outputs": [],
   "source": [
    "src4=driver.find_element_by_name(\"q\")\n",
    "src4.send_keys('sunglasses')"
   ]
  },
  {
   "cell_type": "code",
   "execution_count": 316,
   "id": "9d8a73ec",
   "metadata": {},
   "outputs": [],
   "source": [
    "btn4=driver.find_element_by_xpath(\"//button[@class='L0Z3Pu']\")\n",
    "btn4.click()"
   ]
  },
  {
   "cell_type": "markdown",
   "id": "61170257",
   "metadata": {},
   "source": [
    "### 3. After that you will reach to the page having a lot of sunglasses. From this page you can scrap the required data as usual. "
   ]
  },
  {
   "cell_type": "code",
   "execution_count": 317,
   "id": "10a0e4ce",
   "metadata": {},
   "outputs": [],
   "source": [
    "brand4=[]\n",
    "desc4=[]\n",
    "price4=[]\n",
    "offer4=[]"
   ]
  },
  {
   "cell_type": "code",
   "execution_count": 318,
   "id": "aeae6190",
   "metadata": {},
   "outputs": [
    {
     "name": "stdout",
     "output_type": "stream",
     "text": [
      "['Fravy', 'VINCENT CHASE', 'SRPM', 'SUNBEE', 'Elligator', 'Fastrack', 'PIRASO', 'Anemone', 'SHAAH COLLECTIONS', 'SHAAH COLLECTIONS', 'kingsunglasses', 'Fravy', 'kingsunglasses', 'PIRASO', 'GANSTA', 'elegante', 'PHENOMENAL', 'New Specs', 'hipe', 'VINCENT CHASE', 'Rich Club', 'PIRASO', 'New Specs', 'VINCENT CHASE', 'ROZZETTA CRAFT', 'Elligator', 'NuVew', 'VINCENT CHASE', 'PHENOMENAL', 'hipe', 'elegante', 'VINCENT CHASE', 'ROYAL SON', 'HIPPON', 'Fastrack', 'VINCENT CHASE', 'kingsunglasses', 'Fastrack', 'SUNBEE', 'ROYAL SON']\n"
     ]
    }
   ],
   "source": [
    "# Brand\n",
    "br41=driver.find_elements_by_xpath(\"//div[@class='_2WkVRV']\")\n",
    "for i in br41 :\n",
    "    b41=i.text\n",
    "    brand4.append(b41)\n",
    "print(brand4)"
   ]
  },
  {
   "cell_type": "code",
   "execution_count": 319,
   "id": "74076eb9",
   "metadata": {},
   "outputs": [
    {
     "name": "stdout",
     "output_type": "stream",
     "text": [
      "['UV Protection, Others Retro Square Sunglasses (Free Siz...', 'Polarized, UV Protection Wayfarer Sunglasses (57)', 'UV Protection Wayfarer Sunglasses (56)', 'UV Protection, Polarized, Mirrored Round Sunglasses (Fr...', 'UV Protection Round Sunglasses (54)', 'UV Protection Rectangular Sunglasses (Free Size)', 'UV Protection Aviator Sunglasses (54)', 'UV Protection, Others Rectangular Sunglasses (50)', 'UV Protection, Polarized, Mirrored Rectangular Sunglass...', 'UV Protection, Polarized, Mirrored Rectangular Sunglass...', 'UV Protection Round Sunglasses (54)', 'UV Protection, Gradient, Night Vision Retro Square Sung...', 'Mirrored, UV Protection Wayfarer Sunglasses (Free Size)', 'UV Protection Aviator Sunglasses (54)', 'UV Protection Aviator Sunglasses (57)', 'UV Protection Oval Sunglasses (Free Size)', 'UV Protection Retro Square Sunglasses (Free Size)', 'UV Protection Rectangular Sunglasses (Free Size)', 'Mirrored, UV Protection, Gradient Round Sunglasses (55)', 'by Lenskart Polarized, UV Protection Wayfarer Sunglasse...', 'Polarized Round Sunglasses (48)', 'UV Protection Aviator Sunglasses (54)', 'Mirrored, UV Protection, Riding Glasses, Others Round S...', 'Polarized, UV Protection Wayfarer Sunglasses (57)', 'UV Protection Retro Square Sunglasses (Free Size)', 'UV Protection Round Sunglasses (55)', 'UV Protection, Night Vision, Riding Glasses Sports Sung...', 'UV Protection, Polarized Round Sunglasses (Free Size)', 'UV Protection, Mirrored Retro Square Sunglasses (53)', 'UV Protection, Gradient, Mirrored, Riding Glasses Aviat...', 'Mirrored Round Sunglasses (Free Size)', 'by Lenskart Polarized, UV Protection Round Sunglasses (...', 'Mirrored Aviator Sunglasses (55)', 'UV Protection Wayfarer Sunglasses (55)', 'Gradient, UV Protection Wayfarer Sunglasses (Free Size)', 'Polarized, UV Protection Wayfarer Sunglasses (53)', 'UV Protection Rectangular Sunglasses (55)', 'UV Protection Wayfarer Sunglasses (Free Size)', 'UV Protection, Polarized, Mirrored Wayfarer Sunglasses ...', 'Polarized, UV Protection, Gradient Over-sized, Butterfl...']\n"
     ]
    }
   ],
   "source": [
    "# Product Description\n",
    "dsc41=driver.find_elements_by_xpath(\"//a[@class='IRpwTa']\")\n",
    "for i in dsc41 :\n",
    "    d41=i.text\n",
    "    desc4.append(d41)\n",
    "print(desc4)"
   ]
  },
  {
   "cell_type": "code",
   "execution_count": 320,
   "id": "c1861c34",
   "metadata": {},
   "outputs": [
    {
     "name": "stdout",
     "output_type": "stream",
     "text": [
      "['₹260', '₹799', '₹188', '₹276', '₹248', '₹639', '₹200', '₹799', '₹177', '₹189', '₹189', '₹305', '₹259', '₹187', '₹269', '₹359', '₹329', '₹259', '₹189', '₹999', '₹189', '₹187', '₹269', '₹999', '₹499', '₹239', '₹270', '₹1,415', '₹311', '₹209', '₹340', '₹1,415', '₹359', '₹231', '₹509', '₹799', '₹259', '₹759', '₹215', '₹1,234']\n"
     ]
    }
   ],
   "source": [
    "# Price\n",
    "prc41=driver.find_elements_by_xpath(\"//div[@class='_30jeq3']\")\n",
    "for i in prc41 :\n",
    "    p41=i.text\n",
    "    price4.append(p41)\n",
    "print(price4)"
   ]
  },
  {
   "cell_type": "code",
   "execution_count": 321,
   "id": "41103ce0",
   "metadata": {},
   "outputs": [
    {
     "name": "stdout",
     "output_type": "stream",
     "text": [
      "['82% off', '60% off', '85% off', '83% off', '90% off', '20% off', '87% off', '60% off', '89% off', '81% off', '82% off', '84% off', '87% off', '88% off', '86% off', '76% off', '83% off', '87% off', '87% off', '50% off', '62% off', '88% off', '83% off', '50% off', '77% off', '88% off', '65% off', '29% off', '84% off', '79% off', '82% off', '29% off', '76% off', '80% off', '36% off', '60% off', '82% off', '15% off', '78% off', '58% off']\n"
     ]
    }
   ],
   "source": [
    "# Offer\n",
    "ofr41=driver.find_elements_by_xpath(\"//div[@class='_3Ay6Sb']/span\")\n",
    "for i in ofr41 :\n",
    "    o41=i.text\n",
    "    offer4.append(o41)\n",
    "print(offer4)"
   ]
  },
  {
   "cell_type": "code",
   "execution_count": 322,
   "id": "da4729da",
   "metadata": {},
   "outputs": [
    {
     "name": "stdout",
     "output_type": "stream",
     "text": [
      "40 40 40 40\n"
     ]
    }
   ],
   "source": [
    "print(len(brand4),len(desc4),len(price4),len(offer4))"
   ]
  },
  {
   "cell_type": "markdown",
   "id": "d5f199e1",
   "metadata": {},
   "source": [
    "### 4. After scraping data from the first page, go to the “Next” Button at the bottom of the page , then click on it."
   ]
  },
  {
   "cell_type": "code",
   "execution_count": 323,
   "id": "8d4736da",
   "metadata": {},
   "outputs": [],
   "source": [
    "next4=driver.find_element_by_xpath(\"//a[@class='_1LKTO3']/span\")\n",
    "next4.click()"
   ]
  },
  {
   "cell_type": "markdown",
   "id": "f987ceb4",
   "metadata": {},
   "source": [
    "### 5. Now scrape data from this page as usual "
   ]
  },
  {
   "cell_type": "code",
   "execution_count": 324,
   "id": "aa46af98",
   "metadata": {},
   "outputs": [
    {
     "data": {
      "text/plain": [
       "['PIRASO',\n",
       " 'VINCENT CHASE',\n",
       " 'kingsunglasses',\n",
       " 'Singco India',\n",
       " 'PIRASO',\n",
       " 'AISLIN',\n",
       " 'kingsunglasses',\n",
       " 'Singco India',\n",
       " 'PHENOMENAL',\n",
       " 'NuVew']"
      ]
     },
     "execution_count": 324,
     "metadata": {},
     "output_type": "execute_result"
    }
   ],
   "source": [
    "# Brand\n",
    "br42=driver.find_elements_by_xpath(\"//div[@class='_2WkVRV']\")\n",
    "br42[0:100]\n",
    "\n",
    "for i in br42 :\n",
    "    b42=i.text\n",
    "    brand4.append(b42)\n",
    "brand4[-10:]"
   ]
  },
  {
   "cell_type": "code",
   "execution_count": 325,
   "id": "3dfb0076",
   "metadata": {},
   "outputs": [
    {
     "data": {
      "text/plain": [
       "['UV Protection Butterfly Sunglasses (65)',\n",
       " 'Polarized, UV Protection Wayfarer Sunglasses (57)',\n",
       " 'UV Protection, Mirrored Round Sunglasses (54)',\n",
       " 'Riding Glasses, UV Protection, Others Aviator Sunglasse...',\n",
       " 'UV Protection Wayfarer Sunglasses (32)',\n",
       " 'Polarized, UV Protection, Mirrored Wayfarer, Rectangula...',\n",
       " 'Mirrored, UV Protection Wayfarer Sunglasses (53)',\n",
       " 'UV Protection, Riding Glasses, Others Aviator, Wayfarer...',\n",
       " 'UV Protection, Mirrored Retro Square Sunglasses (53)',\n",
       " 'UV Protection, Gradient, Night Vision, Mirrored Aviator...']"
      ]
     },
     "execution_count": 325,
     "metadata": {},
     "output_type": "execute_result"
    }
   ],
   "source": [
    "# Product Description\n",
    "dsc42=driver.find_elements_by_xpath(\"//a[@class='IRpwTa']\")\n",
    "dsc42\n",
    "\n",
    "for i in dsc42 :\n",
    "    d42=i.text\n",
    "    desc4.append(d42)\n",
    "desc4[-10:]"
   ]
  },
  {
   "cell_type": "code",
   "execution_count": 326,
   "id": "0c859a51",
   "metadata": {},
   "outputs": [
    {
     "data": {
      "text/plain": [
       "['₹336',\n",
       " '₹999',\n",
       " '₹219',\n",
       " '₹252',\n",
       " '₹187',\n",
       " '₹1,135',\n",
       " '₹299',\n",
       " '₹229',\n",
       " '₹311',\n",
       " '₹375']"
      ]
     },
     "execution_count": 326,
     "metadata": {},
     "output_type": "execute_result"
    }
   ],
   "source": [
    "# Price\n",
    "prc42=driver.find_elements_by_xpath(\"//div[@class='_30jeq3']\")\n",
    "prc42\n",
    "\n",
    "for i in prc42 :\n",
    "    p42=i.text\n",
    "    price4.append(p42)\n",
    "price4[-10:]"
   ]
  },
  {
   "cell_type": "code",
   "execution_count": 327,
   "id": "840f0168",
   "metadata": {},
   "outputs": [
    {
     "data": {
      "text/plain": [
       "['87% off',\n",
       " '50% off',\n",
       " '81% off',\n",
       " '83% off',\n",
       " '88% off',\n",
       " '73% off',\n",
       " '85% off',\n",
       " '67% off',\n",
       " '84% off',\n",
       " '70% off']"
      ]
     },
     "execution_count": 327,
     "metadata": {},
     "output_type": "execute_result"
    }
   ],
   "source": [
    "# Offer\n",
    "ofr42=driver.find_elements_by_xpath(\"//div[@class='_3Ay6Sb']/span\")\n",
    "ofr42\n",
    "\n",
    "for i in ofr42 :\n",
    "    o42=i.text\n",
    "    offer4.append(o42)\n",
    "offer4[-10:]"
   ]
  },
  {
   "cell_type": "code",
   "execution_count": 328,
   "id": "311532f2",
   "metadata": {},
   "outputs": [
    {
     "name": "stdout",
     "output_type": "stream",
     "text": [
      "80 80 80 80\n"
     ]
    }
   ],
   "source": [
    "print(len(brand4),len(desc4),len(price4),len(offer4))"
   ]
  },
  {
   "cell_type": "code",
   "execution_count": 329,
   "id": "2db539c9",
   "metadata": {},
   "outputs": [],
   "source": [
    "#Page3\n",
    "next4_=driver.find_element_by_xpath(\"//a[@class='_1LKTO3'][2]/span\")\n",
    "next4_.click()"
   ]
  },
  {
   "cell_type": "code",
   "execution_count": 330,
   "id": "d8b85997",
   "metadata": {},
   "outputs": [
    {
     "data": {
      "text/plain": [
       "['MAXX',\n",
       " 'VINCENT CHASE',\n",
       " 'ROZZETTA CRAFT',\n",
       " 'ROYAL SON',\n",
       " 'GANSTA',\n",
       " 'VINCENT CHASE',\n",
       " 'Fravy',\n",
       " 'ROYAL SON',\n",
       " 'Elligator',\n",
       " 'AISLIN']"
      ]
     },
     "execution_count": 330,
     "metadata": {},
     "output_type": "execute_result"
    }
   ],
   "source": [
    "# Brand\n",
    "br43=driver.find_elements_by_xpath(\"//div[@class='_2WkVRV']\")\n",
    "br43[0:100]\n",
    "\n",
    "for i in br43[0:20] :\n",
    "    b43=i.text\n",
    "    brand4.append(b43)\n",
    "brand4[-10:]"
   ]
  },
  {
   "cell_type": "code",
   "execution_count": 331,
   "id": "531fb59c",
   "metadata": {},
   "outputs": [
    {
     "data": {
      "text/plain": [
       "['UV Protection Aviator Sunglasses (Free Size)',\n",
       " 'by Lenskart UV Protection Rectangular Sunglasses (54)',\n",
       " 'UV Protection, Gradient Retro Square Sunglasses (Free S...',\n",
       " 'UV Protection Rectangular Sunglasses (Free Size)',\n",
       " 'UV Protection, Mirrored Wayfarer Sunglasses (53)',\n",
       " 'by Lenskart Polarized, UV Protection Wayfarer Sunglasse...',\n",
       " 'UV Protection Retro Square Sunglasses (Free Size)',\n",
       " 'Polarized Rectangular Sunglasses (65)',\n",
       " 'UV Protection, Riding Glasses Rectangular, Retro Square...',\n",
       " 'Polarized, UV Protection, Gradient Rectangular Sunglass...']"
      ]
     },
     "execution_count": 331,
     "metadata": {},
     "output_type": "execute_result"
    }
   ],
   "source": [
    "# Product Description\n",
    "dsc43=driver.find_elements_by_xpath(\"//a[@class='IRpwTa']\")\n",
    "dsc43[0:20]\n",
    "\n",
    "for i in dsc43[0:20] :\n",
    "    d43=i.text\n",
    "    desc4.append(d43)\n",
    "desc4[-10:]"
   ]
  },
  {
   "cell_type": "code",
   "execution_count": 332,
   "id": "e6ccdc1a",
   "metadata": {},
   "outputs": [
    {
     "data": {
      "text/plain": [
       "['₹175',\n",
       " '₹799',\n",
       " '₹349',\n",
       " '₹449',\n",
       " '₹196',\n",
       " '₹1,179',\n",
       " '₹269',\n",
       " '₹664',\n",
       " '₹332',\n",
       " '₹1,135']"
      ]
     },
     "execution_count": 332,
     "metadata": {},
     "output_type": "execute_result"
    }
   ],
   "source": [
    "# Price\n",
    "prc43=driver.find_elements_by_xpath(\"//div[@class='_30jeq3']\")\n",
    "prc43\n",
    "\n",
    "for i in prc43[0:20] :\n",
    "    p43=i.text\n",
    "    price4.append(p43)\n",
    "price4[-10:]"
   ]
  },
  {
   "cell_type": "code",
   "execution_count": 333,
   "id": "c9a7a8a2",
   "metadata": {},
   "outputs": [
    {
     "data": {
      "text/plain": [
       "['80% off',\n",
       " '60% off',\n",
       " '82% off',\n",
       " '70% off',\n",
       " '80% off',\n",
       " '41% off',\n",
       " '82% off',\n",
       " '66% off',\n",
       " '77% off',\n",
       " '73% off']"
      ]
     },
     "execution_count": 333,
     "metadata": {},
     "output_type": "execute_result"
    }
   ],
   "source": [
    "# Offer\n",
    "ofr43=driver.find_elements_by_xpath(\"//div[@class='_3Ay6Sb']/span\")\n",
    "ofr43\n",
    "\n",
    "for i in ofr43[0:20] :\n",
    "    o43=i.text\n",
    "    offer4.append(o43)\n",
    "offer4[-10:]"
   ]
  },
  {
   "cell_type": "markdown",
   "id": "e9305453",
   "metadata": {},
   "source": [
    "### 6. Repeat this until you get data for 100 sunglasses. "
   ]
  },
  {
   "cell_type": "code",
   "execution_count": 334,
   "id": "fe4c6466",
   "metadata": {},
   "outputs": [
    {
     "name": "stdout",
     "output_type": "stream",
     "text": [
      "100 100 100 100\n"
     ]
    }
   ],
   "source": [
    "print(len(brand4),len(desc4),len(price4),len(offer4))"
   ]
  },
  {
   "cell_type": "code",
   "execution_count": 335,
   "id": "8cdd4aed",
   "metadata": {},
   "outputs": [
    {
     "data": {
      "text/html": [
       "<div>\n",
       "<style scoped>\n",
       "    .dataframe tbody tr th:only-of-type {\n",
       "        vertical-align: middle;\n",
       "    }\n",
       "\n",
       "    .dataframe tbody tr th {\n",
       "        vertical-align: top;\n",
       "    }\n",
       "\n",
       "    .dataframe thead th {\n",
       "        text-align: right;\n",
       "    }\n",
       "</style>\n",
       "<table border=\"1\" class=\"dataframe\">\n",
       "  <thead>\n",
       "    <tr style=\"text-align: right;\">\n",
       "      <th></th>\n",
       "      <th>Product Brand</th>\n",
       "      <th>Product Description</th>\n",
       "      <th>Price</th>\n",
       "      <th>Offer</th>\n",
       "    </tr>\n",
       "  </thead>\n",
       "  <tbody>\n",
       "    <tr>\n",
       "      <th>0</th>\n",
       "      <td>Fravy</td>\n",
       "      <td>UV Protection, Others Retro Square Sunglasses ...</td>\n",
       "      <td>₹260</td>\n",
       "      <td>82% off</td>\n",
       "    </tr>\n",
       "    <tr>\n",
       "      <th>1</th>\n",
       "      <td>VINCENT CHASE</td>\n",
       "      <td>Polarized, UV Protection Wayfarer Sunglasses (57)</td>\n",
       "      <td>₹799</td>\n",
       "      <td>60% off</td>\n",
       "    </tr>\n",
       "    <tr>\n",
       "      <th>2</th>\n",
       "      <td>SRPM</td>\n",
       "      <td>UV Protection Wayfarer Sunglasses (56)</td>\n",
       "      <td>₹188</td>\n",
       "      <td>85% off</td>\n",
       "    </tr>\n",
       "    <tr>\n",
       "      <th>3</th>\n",
       "      <td>SUNBEE</td>\n",
       "      <td>UV Protection, Polarized, Mirrored Round Sungl...</td>\n",
       "      <td>₹276</td>\n",
       "      <td>83% off</td>\n",
       "    </tr>\n",
       "    <tr>\n",
       "      <th>4</th>\n",
       "      <td>Elligator</td>\n",
       "      <td>UV Protection Round Sunglasses (54)</td>\n",
       "      <td>₹248</td>\n",
       "      <td>90% off</td>\n",
       "    </tr>\n",
       "    <tr>\n",
       "      <th>...</th>\n",
       "      <td>...</td>\n",
       "      <td>...</td>\n",
       "      <td>...</td>\n",
       "      <td>...</td>\n",
       "    </tr>\n",
       "    <tr>\n",
       "      <th>95</th>\n",
       "      <td>VINCENT CHASE</td>\n",
       "      <td>by Lenskart Polarized, UV Protection Wayfarer ...</td>\n",
       "      <td>₹1,179</td>\n",
       "      <td>41% off</td>\n",
       "    </tr>\n",
       "    <tr>\n",
       "      <th>96</th>\n",
       "      <td>Fravy</td>\n",
       "      <td>UV Protection Retro Square Sunglasses (Free Size)</td>\n",
       "      <td>₹269</td>\n",
       "      <td>82% off</td>\n",
       "    </tr>\n",
       "    <tr>\n",
       "      <th>97</th>\n",
       "      <td>ROYAL SON</td>\n",
       "      <td>Polarized Rectangular Sunglasses (65)</td>\n",
       "      <td>₹664</td>\n",
       "      <td>66% off</td>\n",
       "    </tr>\n",
       "    <tr>\n",
       "      <th>98</th>\n",
       "      <td>Elligator</td>\n",
       "      <td>UV Protection, Riding Glasses Rectangular, Ret...</td>\n",
       "      <td>₹332</td>\n",
       "      <td>77% off</td>\n",
       "    </tr>\n",
       "    <tr>\n",
       "      <th>99</th>\n",
       "      <td>AISLIN</td>\n",
       "      <td>Polarized, UV Protection, Gradient Rectangular...</td>\n",
       "      <td>₹1,135</td>\n",
       "      <td>73% off</td>\n",
       "    </tr>\n",
       "  </tbody>\n",
       "</table>\n",
       "<p>100 rows × 4 columns</p>\n",
       "</div>"
      ],
      "text/plain": [
       "    Product Brand                                Product Description   Price  \\\n",
       "0           Fravy  UV Protection, Others Retro Square Sunglasses ...    ₹260   \n",
       "1   VINCENT CHASE  Polarized, UV Protection Wayfarer Sunglasses (57)    ₹799   \n",
       "2            SRPM             UV Protection Wayfarer Sunglasses (56)    ₹188   \n",
       "3          SUNBEE  UV Protection, Polarized, Mirrored Round Sungl...    ₹276   \n",
       "4       Elligator                UV Protection Round Sunglasses (54)    ₹248   \n",
       "..            ...                                                ...     ...   \n",
       "95  VINCENT CHASE  by Lenskart Polarized, UV Protection Wayfarer ...  ₹1,179   \n",
       "96          Fravy  UV Protection Retro Square Sunglasses (Free Size)    ₹269   \n",
       "97      ROYAL SON              Polarized Rectangular Sunglasses (65)    ₹664   \n",
       "98      Elligator  UV Protection, Riding Glasses Rectangular, Ret...    ₹332   \n",
       "99         AISLIN  Polarized, UV Protection, Gradient Rectangular...  ₹1,135   \n",
       "\n",
       "      Offer  \n",
       "0   82% off  \n",
       "1   60% off  \n",
       "2   85% off  \n",
       "3   83% off  \n",
       "4   90% off  \n",
       "..      ...  \n",
       "95  41% off  \n",
       "96  82% off  \n",
       "97  66% off  \n",
       "98  77% off  \n",
       "99  73% off  \n",
       "\n",
       "[100 rows x 4 columns]"
      ]
     },
     "execution_count": 335,
     "metadata": {},
     "output_type": "execute_result"
    }
   ],
   "source": [
    "df4=pd.DataFrame({})\n",
    "df4['Product Brand']=brand4\n",
    "df4['Product Description']=desc4\n",
    "df4['Price']=price4\n",
    "df4['Offer']=offer4\n",
    "\n",
    "df4"
   ]
  },
  {
   "cell_type": "markdown",
   "id": "b52a34e4",
   "metadata": {},
   "source": [
    "## Q5: Scrape 100 reviews data from flipkart.com for iphone11 phone."
   ]
  },
  {
   "cell_type": "code",
   "execution_count": 260,
   "id": "5cd431ad",
   "metadata": {},
   "outputs": [],
   "source": [
    "#Going to the provided link\n",
    "url5='https://www.flipkart.com/apple-iphone-11-black-64-gb-includes-earpods-power-adapter/p/itm0f37c2240b217?pid=MOBFKCTSVZAXUHGR&lid=LSTMOBFKCTSVZAXUHGREPBFGI&marketplace'\n",
    "driver.get(url5)"
   ]
  },
  {
   "cell_type": "markdown",
   "id": "d654169f",
   "metadata": {},
   "source": [
    "### You have to scrape the tick marked attributes. These are: 1. Rating 2. Review_summary 3. Full review 4. You have to scrape this data for first 100 reviews. "
   ]
  },
  {
   "cell_type": "code",
   "execution_count": 261,
   "id": "d0a190c9",
   "metadata": {},
   "outputs": [],
   "source": [
    "# Clicking link for viewing All Reviews\n",
    "page5=driver.find_element_by_xpath(\"//div[@class='_3UAT2v _16PBlm']\")\n",
    "page5.click()"
   ]
  },
  {
   "cell_type": "code",
   "execution_count": 262,
   "id": "2f004608",
   "metadata": {},
   "outputs": [],
   "source": [
    "# Creating empty lists\n",
    "rating5=[]\n",
    "rev_sum5=[]\n",
    "full_rev5=[]"
   ]
  },
  {
   "cell_type": "code",
   "execution_count": 263,
   "id": "d1abfee7",
   "metadata": {},
   "outputs": [
    {
     "name": "stdout",
     "output_type": "stream",
     "text": [
      "10\n",
      "10\n",
      "10\n",
      "-------------\n",
      "20\n",
      "20\n",
      "20\n",
      "-------------\n",
      "30\n",
      "30\n",
      "30\n",
      "-------------\n",
      "40\n",
      "40\n",
      "40\n",
      "-------------\n",
      "50\n",
      "50\n",
      "50\n",
      "-------------\n",
      "60\n",
      "60\n",
      "60\n",
      "-------------\n",
      "69\n",
      "70\n",
      "70\n",
      "-------------\n",
      "79\n",
      "80\n",
      "80\n",
      "-------------\n",
      "89\n",
      "90\n",
      "90\n",
      "-------------\n",
      "98\n",
      "100\n",
      "100\n",
      "-------------\n",
      "100\n",
      "100\n",
      "100\n",
      "-------------\n"
     ]
    }
   ],
   "source": [
    "#Using for loop for scraping 100 records in a singlr execution\n",
    "\n",
    "for n in range(0,11) : \n",
    "    # 1.Rating\n",
    "    rate5=driver.find_elements_by_xpath(\"//div[@class='_3LWZlK _1BLPMq']\")\n",
    "    for i in rate5 :\n",
    "        r5=i.text\n",
    "        if (len(rating5)==100) :\n",
    "            break\n",
    "        rating5.append(r5)\n",
    "    #print(rating5)\n",
    "    print(len(rating5))\n",
    "    \n",
    "    # 2.Review_Summary\n",
    "    sum5=driver.find_elements_by_xpath(\"//p[@class='_2-N8zT']\")\n",
    "    for i in sum5 :\n",
    "        s5=i.text\n",
    "        if (len(rev_sum5)==100) :\n",
    "            break\n",
    "        rev_sum5.append(s5)\n",
    "    #print(rev_sum5)\n",
    "    print(len(rev_sum5))\n",
    "\n",
    "    # 3.Full review\n",
    "    full5=driver.find_elements_by_xpath(\"//div[@class='t-ZTKy']\")\n",
    "    for i in full5 :\n",
    "        f5=i.text\n",
    "        if (len(full_rev5)==100) :\n",
    "            break\n",
    "        full_rev5.append(f5)\n",
    "    #print(full_rev5[0:3])\n",
    "    print(len(full_rev5))\n",
    "    \n",
    "    print('-------------')\n",
    "#Clicking on NEXT button to iterate the web page.\n",
    "    next5=driver.find_elements_by_xpath(\"//a[@class='_1LKTO3']\")\n",
    "    for n in next5 :\n",
    "        if n.text=='NEXT' :\n",
    "            n.click()\n",
    "    time.sleep(5)"
   ]
  },
  {
   "cell_type": "code",
   "execution_count": 264,
   "id": "bfd45f3d",
   "metadata": {},
   "outputs": [
    {
     "name": "stdout",
     "output_type": "stream",
     "text": [
      "100 100 100\n"
     ]
    }
   ],
   "source": [
    "#Printing the length of lists\n",
    "print(len(rating5),len(rev_sum5),len(full_rev5))"
   ]
  },
  {
   "cell_type": "code",
   "execution_count": 267,
   "id": "b5791858",
   "metadata": {},
   "outputs": [
    {
     "data": {
      "text/html": [
       "<div>\n",
       "<style scoped>\n",
       "    .dataframe tbody tr th:only-of-type {\n",
       "        vertical-align: middle;\n",
       "    }\n",
       "\n",
       "    .dataframe tbody tr th {\n",
       "        vertical-align: top;\n",
       "    }\n",
       "\n",
       "    .dataframe thead th {\n",
       "        text-align: right;\n",
       "    }\n",
       "</style>\n",
       "<table border=\"1\" class=\"dataframe\">\n",
       "  <thead>\n",
       "    <tr style=\"text-align: right;\">\n",
       "      <th></th>\n",
       "      <th>Rating</th>\n",
       "      <th>Review Summary</th>\n",
       "      <th>Full Review</th>\n",
       "    </tr>\n",
       "  </thead>\n",
       "  <tbody>\n",
       "    <tr>\n",
       "      <th>0</th>\n",
       "      <td>5</td>\n",
       "      <td>Brilliant</td>\n",
       "      <td>The Best Phone for the Money\\n\\nThe iPhone 11 ...</td>\n",
       "    </tr>\n",
       "    <tr>\n",
       "      <th>1</th>\n",
       "      <td>5</td>\n",
       "      <td>Simply awesome</td>\n",
       "      <td>Really satisfied with the Product I received.....</td>\n",
       "    </tr>\n",
       "    <tr>\n",
       "      <th>2</th>\n",
       "      <td>5</td>\n",
       "      <td>Perfect product!</td>\n",
       "      <td>Amazing phone with great cameras and better ba...</td>\n",
       "    </tr>\n",
       "    <tr>\n",
       "      <th>3</th>\n",
       "      <td>5</td>\n",
       "      <td>Worth every penny</td>\n",
       "      <td>Previously I was using one plus 3t it was a gr...</td>\n",
       "    </tr>\n",
       "    <tr>\n",
       "      <th>4</th>\n",
       "      <td>5</td>\n",
       "      <td>Best in the market!</td>\n",
       "      <td>Great iPhone very snappy experience as apple k...</td>\n",
       "    </tr>\n",
       "    <tr>\n",
       "      <th>...</th>\n",
       "      <td>...</td>\n",
       "      <td>...</td>\n",
       "      <td>...</td>\n",
       "    </tr>\n",
       "    <tr>\n",
       "      <th>95</th>\n",
       "      <td>5</td>\n",
       "      <td>Value-for-money</td>\n",
       "      <td>Just got this iphone 11\\nAnd it is most powerf...</td>\n",
       "    </tr>\n",
       "    <tr>\n",
       "      <th>96</th>\n",
       "      <td>5</td>\n",
       "      <td>Best in the market!</td>\n",
       "      <td>The best all rounder iphone. Flipkart is doing...</td>\n",
       "    </tr>\n",
       "    <tr>\n",
       "      <th>97</th>\n",
       "      <td>4</td>\n",
       "      <td>Brilliant</td>\n",
       "      <td>Amazing phone and on great deal I received wit...</td>\n",
       "    </tr>\n",
       "    <tr>\n",
       "      <th>98</th>\n",
       "      <td>5</td>\n",
       "      <td>Terrific purchase</td>\n",
       "      <td>finally an iPhone with very nice battery backu...</td>\n",
       "    </tr>\n",
       "    <tr>\n",
       "      <th>99</th>\n",
       "      <td>5</td>\n",
       "      <td>Good quality product</td>\n",
       "      <td>I'm switching this phone to oppo reno 10x zoom...</td>\n",
       "    </tr>\n",
       "  </tbody>\n",
       "</table>\n",
       "<p>100 rows × 3 columns</p>\n",
       "</div>"
      ],
      "text/plain": [
       "   Rating        Review Summary  \\\n",
       "0       5             Brilliant   \n",
       "1       5        Simply awesome   \n",
       "2       5      Perfect product!   \n",
       "3       5     Worth every penny   \n",
       "4       5   Best in the market!   \n",
       "..    ...                   ...   \n",
       "95      5       Value-for-money   \n",
       "96      5   Best in the market!   \n",
       "97      4             Brilliant   \n",
       "98      5     Terrific purchase   \n",
       "99      5  Good quality product   \n",
       "\n",
       "                                          Full Review  \n",
       "0   The Best Phone for the Money\\n\\nThe iPhone 11 ...  \n",
       "1   Really satisfied with the Product I received.....  \n",
       "2   Amazing phone with great cameras and better ba...  \n",
       "3   Previously I was using one plus 3t it was a gr...  \n",
       "4   Great iPhone very snappy experience as apple k...  \n",
       "..                                                ...  \n",
       "95  Just got this iphone 11\\nAnd it is most powerf...  \n",
       "96  The best all rounder iphone. Flipkart is doing...  \n",
       "97  Amazing phone and on great deal I received wit...  \n",
       "98  finally an iPhone with very nice battery backu...  \n",
       "99  I'm switching this phone to oppo reno 10x zoom...  \n",
       "\n",
       "[100 rows x 3 columns]"
      ]
     },
     "execution_count": 267,
     "metadata": {},
     "output_type": "execute_result"
    }
   ],
   "source": [
    "#Making dataframe of scraped details\n",
    "df5=pd.DataFrame({})\n",
    "df5['Rating']=rating5\n",
    "df5['Review Summary']=rev_sum5\n",
    "df5['Full Review']=full_rev5\n",
    "\n",
    "df5"
   ]
  },
  {
   "cell_type": "markdown",
   "id": "ce41d5e3",
   "metadata": {},
   "source": [
    "## Q6:Scrape data for first 100 sneakers you find when you visit flipkart.com and search for “sneakers” in the search field. "
   ]
  },
  {
   "cell_type": "code",
   "execution_count": 214,
   "id": "07d02afa",
   "metadata": {},
   "outputs": [],
   "source": [
    "url6='https://flipkart.com'\n",
    "driver.get(url6)"
   ]
  },
  {
   "cell_type": "code",
   "execution_count": 215,
   "id": "6cfc2c8f",
   "metadata": {},
   "outputs": [],
   "source": [
    "search6=driver.find_element_by_xpath(\"//input[@class='_3704LK']\")\n",
    "search6.send_keys('sneakers')"
   ]
  },
  {
   "cell_type": "code",
   "execution_count": 216,
   "id": "08c5df0b",
   "metadata": {},
   "outputs": [],
   "source": [
    "#Click the search button\n",
    "click6=driver.find_element_by_xpath(\"//button[@class='L0Z3Pu']\")\n",
    "click6.click()"
   ]
  },
  {
   "cell_type": "markdown",
   "id": "d610aeec",
   "metadata": {},
   "source": [
    "### You have to scrape 4 attributes of each sneaker: 1. Brand 2. Product Description 3. Price 4.Offer"
   ]
  },
  {
   "cell_type": "code",
   "execution_count": 217,
   "id": "e71352c6",
   "metadata": {},
   "outputs": [],
   "source": [
    "brand6=[]\n",
    "desc6=[]\n",
    "price6=[]\n",
    "offer6=[]"
   ]
  },
  {
   "cell_type": "code",
   "execution_count": 218,
   "id": "9fe5d40f",
   "metadata": {},
   "outputs": [
    {
     "name": "stdout",
     "output_type": "stream",
     "text": [
      "40\n",
      "40\n",
      "40\n",
      "40\n",
      "80\n",
      "80\n",
      "80\n",
      "80\n",
      "100\n",
      "100\n",
      "100\n",
      "100\n"
     ]
    }
   ],
   "source": [
    "#Using for loop for scraping 100 records\n",
    "\n",
    "for i in range(0,3) :\n",
    "    \n",
    "    br6=driver.find_elements_by_xpath(\"//div[@class='_2B099V']/div[1]\")\n",
    "    for i in br6 :\n",
    "        b6=i.text\n",
    "        if (len(brand6)==100) :\n",
    "            break\n",
    "        brand6.append(b6)\n",
    "    #print(brand6)\n",
    "    print(len(brand6))\n",
    "\n",
    "    ds6=driver.find_elements_by_xpath(\"//div[@class='_2B099V']/a[1]\")\n",
    "    for i in ds6 :\n",
    "        d6=i.text\n",
    "        if (len(desc6)==100) :\n",
    "            break\n",
    "        desc6.append(d6)\n",
    "    #print(desc6)\n",
    "    print(len(desc6))\n",
    "    \n",
    "    pr6=driver.find_elements_by_xpath(\"//div[@class='_30jeq3']\")\n",
    "    for i in pr6 :\n",
    "        p6=i.text\n",
    "        if (len(price6)==100) :\n",
    "            break\n",
    "        price6.append(p6)\n",
    "    #print(price6)\n",
    "    print(len(price6))\n",
    "\n",
    "    of6=driver.find_elements_by_xpath(\"//div[@class='_3Ay6Sb']/span\")\n",
    "    for i in of6 :\n",
    "        o6=i.text\n",
    "        if (len(offer6)==100) :\n",
    "            break\n",
    "        offer6.append(o6)\n",
    "    #print(offer6)\n",
    "    print(len(offer6))\n",
    "    \n",
    "# Code for iterating to the next page to scrape more records i.e. till 100 \n",
    "    next6=driver.find_elements_by_xpath(\"//nav[@class='yFHi8N']//a[@class='_1LKTO3']\")\n",
    "    for i in next6 :\n",
    "        if i.text=='NEXT' :\n",
    "            i.click()\n",
    "            \n",
    "    time.sleep(10)"
   ]
  },
  {
   "cell_type": "code",
   "execution_count": 219,
   "id": "5ee0cb1d",
   "metadata": {},
   "outputs": [
    {
     "name": "stdout",
     "output_type": "stream",
     "text": [
      "100 100 100 100\n"
     ]
    }
   ],
   "source": [
    "#Printing lengths\n",
    "print(len(brand6),len(desc6),len(price6),len(offer6))"
   ]
  },
  {
   "cell_type": "code",
   "execution_count": 220,
   "id": "1992ad62",
   "metadata": {},
   "outputs": [
    {
     "data": {
      "text/html": [
       "<div>\n",
       "<style scoped>\n",
       "    .dataframe tbody tr th:only-of-type {\n",
       "        vertical-align: middle;\n",
       "    }\n",
       "\n",
       "    .dataframe tbody tr th {\n",
       "        vertical-align: top;\n",
       "    }\n",
       "\n",
       "    .dataframe thead th {\n",
       "        text-align: right;\n",
       "    }\n",
       "</style>\n",
       "<table border=\"1\" class=\"dataframe\">\n",
       "  <thead>\n",
       "    <tr style=\"text-align: right;\">\n",
       "      <th></th>\n",
       "      <th>Product Brand</th>\n",
       "      <th>Product Description</th>\n",
       "      <th>Price</th>\n",
       "      <th>Offer</th>\n",
       "    </tr>\n",
       "  </thead>\n",
       "  <tbody>\n",
       "    <tr>\n",
       "      <th>0</th>\n",
       "      <td>Numenzo</td>\n",
       "      <td>Sneakers For Men</td>\n",
       "      <td>₹479</td>\n",
       "      <td>63% off</td>\n",
       "    </tr>\n",
       "    <tr>\n",
       "      <th>1</th>\n",
       "      <td>Magnolia</td>\n",
       "      <td>Sneakers For Men</td>\n",
       "      <td>₹398</td>\n",
       "      <td>60% off</td>\n",
       "    </tr>\n",
       "    <tr>\n",
       "      <th>2</th>\n",
       "      <td>SCATCHITE</td>\n",
       "      <td>Sneakers Sneakers For Men</td>\n",
       "      <td>₹398</td>\n",
       "      <td>60% off</td>\n",
       "    </tr>\n",
       "    <tr>\n",
       "      <th>3</th>\n",
       "      <td>CALCADOS</td>\n",
       "      <td>Modern Trendy Shoes Combo pack of 4 Sneakers F...</td>\n",
       "      <td>₹899</td>\n",
       "      <td>54% off</td>\n",
       "    </tr>\n",
       "    <tr>\n",
       "      <th>4</th>\n",
       "      <td>Kreverse</td>\n",
       "      <td>Sneakers For Men</td>\n",
       "      <td>₹199</td>\n",
       "      <td>60% off</td>\n",
       "    </tr>\n",
       "    <tr>\n",
       "      <th>...</th>\n",
       "      <td>...</td>\n",
       "      <td>...</td>\n",
       "      <td>...</td>\n",
       "      <td>...</td>\n",
       "    </tr>\n",
       "    <tr>\n",
       "      <th>95</th>\n",
       "      <td>Allen Cooper</td>\n",
       "      <td>Sneakers For Men</td>\n",
       "      <td>₹1,799</td>\n",
       "      <td>67% off</td>\n",
       "    </tr>\n",
       "    <tr>\n",
       "      <th>96</th>\n",
       "      <td>FOOTGRAB</td>\n",
       "      <td>Walking || Dancing || Outdoors || Boots || Sne...</td>\n",
       "      <td>₹649</td>\n",
       "      <td>35% off</td>\n",
       "    </tr>\n",
       "    <tr>\n",
       "      <th>97</th>\n",
       "      <td>India hub</td>\n",
       "      <td>Fashionable sneaker casual shoes Sneakers For Men</td>\n",
       "      <td>₹499</td>\n",
       "      <td>75% off</td>\n",
       "    </tr>\n",
       "    <tr>\n",
       "      <th>98</th>\n",
       "      <td>PUMA</td>\n",
       "      <td>Lazy Knit Slip On IDP Sneakers For Men</td>\n",
       "      <td>₹1,259</td>\n",
       "      <td>58% off</td>\n",
       "    </tr>\n",
       "    <tr>\n",
       "      <th>99</th>\n",
       "      <td>PUMA</td>\n",
       "      <td>Elsu v2 CV IDP Mid Ankle Sneakers For Men</td>\n",
       "      <td>₹1,599</td>\n",
       "      <td>60% off</td>\n",
       "    </tr>\n",
       "  </tbody>\n",
       "</table>\n",
       "<p>100 rows × 4 columns</p>\n",
       "</div>"
      ],
      "text/plain": [
       "   Product Brand                                Product Description   Price  \\\n",
       "0        Numenzo                                   Sneakers For Men    ₹479   \n",
       "1       Magnolia                                   Sneakers For Men    ₹398   \n",
       "2      SCATCHITE                          Sneakers Sneakers For Men    ₹398   \n",
       "3       CALCADOS  Modern Trendy Shoes Combo pack of 4 Sneakers F...    ₹899   \n",
       "4       Kreverse                                   Sneakers For Men    ₹199   \n",
       "..           ...                                                ...     ...   \n",
       "95  Allen Cooper                                   Sneakers For Men  ₹1,799   \n",
       "96      FOOTGRAB  Walking || Dancing || Outdoors || Boots || Sne...    ₹649   \n",
       "97     India hub  Fashionable sneaker casual shoes Sneakers For Men    ₹499   \n",
       "98          PUMA             Lazy Knit Slip On IDP Sneakers For Men  ₹1,259   \n",
       "99          PUMA          Elsu v2 CV IDP Mid Ankle Sneakers For Men  ₹1,599   \n",
       "\n",
       "      Offer  \n",
       "0   63% off  \n",
       "1   60% off  \n",
       "2   60% off  \n",
       "3   54% off  \n",
       "4   60% off  \n",
       "..      ...  \n",
       "95  67% off  \n",
       "96  35% off  \n",
       "97  75% off  \n",
       "98  58% off  \n",
       "99  60% off  \n",
       "\n",
       "[100 rows x 4 columns]"
      ]
     },
     "execution_count": 220,
     "metadata": {},
     "output_type": "execute_result"
    }
   ],
   "source": [
    "#making dataframe\n",
    "df6=pd.DataFrame({})\n",
    "df6['Product Brand']=brand6\n",
    "df6['Product Description']=desc6\n",
    "df6['Price']=price6\n",
    "df6['Offer']=offer6\n",
    "\n",
    "df6"
   ]
  },
  {
   "cell_type": "markdown",
   "id": "0e68ae06",
   "metadata": {},
   "source": [
    "## Q7: Go to the link - https://www.myntra.com/shoes .Set Price filter to “Rs. 6649 to Rs. 13099” , Color filter to “Black”"
   ]
  },
  {
   "cell_type": "code",
   "execution_count": 163,
   "id": "3a0e417d",
   "metadata": {},
   "outputs": [],
   "source": [
    "# Going to the link provided\n",
    "url7='https://www.myntra.com/shoes'\n",
    "driver.get(url7)"
   ]
  },
  {
   "cell_type": "code",
   "execution_count": 164,
   "id": "7f2451ea",
   "metadata": {},
   "outputs": [],
   "source": [
    "# Could not find the given filter hence using a different filter : Rs. 7149 to Rs. 14099\n",
    "filter_price7=driver.find_element_by_xpath(\"//div[@class='vertical-filters-filters'][2]//ul//li[2]\")\n",
    "filter_price7.click()"
   ]
  },
  {
   "cell_type": "code",
   "execution_count": 165,
   "id": "10ac9fb6",
   "metadata": {},
   "outputs": [],
   "source": [
    "# Appling color filter\n",
    "filter_color7=driver.find_element_by_xpath(\"//div[@class='vertical-filters-filters'][3]//ul//li[@class='colour-listItem']\")\n",
    "filter_color7.click()"
   ]
  },
  {
   "cell_type": "markdown",
   "id": "e8771616",
   "metadata": {},
   "source": [
    "### scrape First 100 shoes data you get. The data should include “Brand” of the shoes , Short Shoe description, price of the shoe."
   ]
  },
  {
   "cell_type": "code",
   "execution_count": 166,
   "id": "94ad4e21",
   "metadata": {},
   "outputs": [],
   "source": [
    "brand7=[]\n",
    "desc7=[]\n",
    "price7=[]"
   ]
  },
  {
   "cell_type": "code",
   "execution_count": 167,
   "id": "f9f58450",
   "metadata": {},
   "outputs": [
    {
     "name": "stdout",
     "output_type": "stream",
     "text": [
      "['Nike', 'Nike', 'Hush Puppies', 'Calvin Klein', 'Puma', 'Nike', 'Calvin Klein', 'Hush Puppies', 'PUMA Motorsport', 'Puma', 'Puma', 'Calvin Klein', 'ASICS', 'Puma', 'Hush Puppies', 'Calvin Klein', 'Puma', 'Hush Puppies', 'ASICS', 'Calvin Klein', 'Bugatti', 'UNDER ARMOUR', 'Hush Puppies', 'Calvin Klein', 'Saint G', 'Clarks', 'PUMA Motorsport', 'Saint G', 'DAVINCHI', 'UNDER ARMOUR', 'Clarks', 'Puma', 'Geox', 'Ruosh', 'Calvin Klein', 'Bugatti', 'J.FONTINI', 'Tommy Hilfiger', 'ASICS', 'ASICS', 'Clarks', 'Puma', 'Geox', 'Hush Puppies', 'DAVINCHI', 'Ruosh', 'DAVINCHI', 'DAVINCHI', 'Pavers England', 'Bugatti']\n",
      "50\n",
      "['Men Zoom Span 4 Running Shoes', 'Men FLIGHT LEGACY Sneakers', 'Men Solid Leather Formal Slip-Ons', 'Men Mid-Top Runner Sneakers', 'Men Deviate Nitro Running Shoe', \"Men BlazerLow '77 Sneakers\", 'Men Textured Leather Sneaker', 'Men Formal Derbys', 'Unisex FerrariRS-Fast Sneakers', 'Men Running Shoes', 'Men Velocity Nitro Running', 'Men Solid Low Top LTH Sneakers', 'Men Black Running Sports Shoes', 'Unisex RS-Z BP Sneakers', 'Men Leather Slip-On Sneakers', 'Men Solid Mid-Top Sneakers', 'Women Magnify Nitro Shoes', 'Men Solid Leather Formal Derbys', 'Men Running Shoes', 'Men UV MONO Leather Sneakers', 'Men Walking Shoes', 'Women Charged Vantage ClrShft', 'Men Solid Leather Formal Slip-Ons', 'Men Mid-Top Runner Sneakers', 'Men Mid-Top Chelsea Boots', 'Men Suede Derbys', 'Unisex BMW RS-Connect Sneakers', 'Women Leather Heeled Boots', 'Ustraa black', 'Women Charged Bandit 6 Running', 'Men Solid Leather Formal Loafers', 'Men Magnify Nitro Running', 'Men Leather Flat Boots', 'Men Solid Leather Formal Oxfords', 'Men Solid Leather Sneakers', 'Men Leather Flat Boots', 'Men Black Leather Loafers', 'Women Leather Block Pumps', 'Men Colourblocked PU Sneakers', 'Skycourt Sneakers', 'Men Solid Formal Leather Derbys', 'Unisex Textured Sneakers', 'Men Leather Formal Slip-Ons', 'Men Solid Formal Slip-Ons', 'Men Textured Formal Leather Loafers', 'Men Textured Derbys', 'Men Textured Formal Leather Oxfords', 'Men Textured Leather Formal Slip-Ons', 'Men Textured Leather Formal Derbys', 'Men Solid Casual Sneakers']\n",
      "50\n",
      "['Rs. 7195', 'Rs. 7995', 'Rs. 8099Rs. 8999(10% OFF)', 'Rs. 8249Rs. 10999(25% OFF)', 'Rs. 11249Rs. 14999(25% OFF)', 'Rs. 7195', 'Rs. 9999', 'Rs. 8999Rs. 9999(10% OFF)', 'Rs. 7499Rs. 9999(25% OFF)', 'Rs. 8449Rs. 12999(35% OFF)', 'Rs. 9349Rs. 10999(15% OFF)', 'Rs. 8999', 'Rs. 7999', 'Rs. 7499Rs. 9999(25% OFF)', 'Rs. 7999Rs. 9999(20% OFF)', 'Rs. 10599', 'Rs. 9099Rs. 12999(30% OFF)', 'Rs. 8999Rs. 9999(10% OFF)', 'Rs. 7999', 'Rs. 8999', 'Rs. 8999', 'Rs. 7999', 'Rs. 8999Rs. 9999(10% OFF)', 'Rs. 8249Rs. 10999(25% OFF)', 'Rs. 10900', 'Rs. 8999', 'Rs. 8499Rs. 9999(15% OFF)', 'Rs. 13900', 'Rs. 8990', 'Rs. 8999', 'Rs. 7999', 'Rs. 9099Rs. 12999(30% OFF)', 'Rs. 11999', 'Rs. 13490', 'Rs. 9999', 'Rs. 8999', 'Rs. 8490', 'Rs. 7999', 'Rs. 9999', 'Rs. 7999', 'Rs. 9999', 'Rs. 8499Rs. 9999(15% OFF)', 'Rs. 8999', 'Rs. 8999Rs. 9999(10% OFF)', 'Rs. 8990', 'Rs. 7192Rs. 8990(20% OFF)', 'Rs. 7990', 'Rs. 8990', 'Rs. 8999', 'Rs. 7199Rs. 8999(20% OFF)']\n",
      "50\n",
      "['Nike', 'Nike', 'Hush Puppies', 'Calvin Klein', 'Puma', 'Nike', 'Calvin Klein', 'Hush Puppies', 'PUMA Motorsport', 'Puma', 'Puma', 'Calvin Klein', 'ASICS', 'Puma', 'Hush Puppies', 'Calvin Klein', 'Puma', 'Hush Puppies', 'ASICS', 'Calvin Klein', 'Bugatti', 'UNDER ARMOUR', 'Hush Puppies', 'Calvin Klein', 'Saint G', 'Clarks', 'PUMA Motorsport', 'Saint G', 'DAVINCHI', 'UNDER ARMOUR', 'Clarks', 'Puma', 'Geox', 'Ruosh', 'Calvin Klein', 'Bugatti', 'J.FONTINI', 'Tommy Hilfiger', 'ASICS', 'ASICS', 'Clarks', 'Puma', 'Geox', 'Hush Puppies', 'DAVINCHI', 'Ruosh', 'DAVINCHI', 'DAVINCHI', 'Pavers England', 'Bugatti', 'Bugatti', 'Saint G', 'Saint G', 'Bugatti', 'Geox', 'Saint G', 'Saint G', 'Tommy Hilfiger', 'Sole To Soul', 'Tommy Hilfiger', 'ASICS', 'Cole Haan', 'UNDER ARMOUR', 'UNDER ARMOUR', 'Puma', 'Puma', 'Puma', 'Tommy Hilfiger', 'ASICS', 'Geox', 'Puma', 'Cole Haan', 'Cole Haan', 'Geox', 'J.FONTINI', 'J.FONTINI', 'Hush Puppies', 'KLEAT', 'J.FONTINI', 'Ruosh', 'ECCO', 'Hush Puppies', 'DAVINCHI', 'Tommy Hilfiger', 'DAVINCHI', 'DAVINCHI', 'KLEAT', 'Regal', 'J.FONTINI', 'DAVINCHI', 'Calvin Klein', 'DAVINCHI', 'KLEAT', 'Puma', 'Saint G', 'Bugatti', 'Geox', 'Bugatti', 'Geox', 'KLEAT']\n",
      "100\n",
      "['Men Zoom Span 4 Running Shoes', 'Men FLIGHT LEGACY Sneakers', 'Men Solid Leather Formal Slip-Ons', 'Men Mid-Top Runner Sneakers', 'Men Deviate Nitro Running Shoe', \"Men BlazerLow '77 Sneakers\", 'Men Textured Leather Sneaker', 'Men Formal Derbys', 'Unisex FerrariRS-Fast Sneakers', 'Men Running Shoes', 'Men Velocity Nitro Running', 'Men Solid Low Top LTH Sneakers', 'Men Black Running Sports Shoes', 'Unisex RS-Z BP Sneakers', 'Men Leather Slip-On Sneakers', 'Men Solid Mid-Top Sneakers', 'Women Magnify Nitro Shoes', 'Men Solid Leather Formal Derbys', 'Men Running Shoes', 'Men UV MONO Leather Sneakers', 'Men Walking Shoes', 'Women Charged Vantage ClrShft', 'Men Solid Leather Formal Slip-Ons', 'Men Mid-Top Runner Sneakers', 'Men Mid-Top Chelsea Boots', 'Men Suede Derbys', 'Unisex BMW RS-Connect Sneakers', 'Women Leather Heeled Boots', 'Ustraa black', 'Women Charged Bandit 6 Running', 'Men Solid Leather Formal Loafers', 'Men Magnify Nitro Running', 'Men Leather Flat Boots', 'Men Solid Leather Formal Oxfords', 'Men Solid Leather Sneakers', 'Men Leather Flat Boots', 'Men Black Leather Loafers', 'Women Leather Block Pumps', 'Men Colourblocked PU Sneakers', 'Skycourt Sneakers', 'Men Solid Formal Leather Derbys', 'Unisex Textured Sneakers', 'Men Leather Formal Slip-Ons', 'Men Solid Formal Slip-Ons', 'Men Textured Formal Leather Loafers', 'Men Textured Derbys', 'Men Textured Formal Leather Oxfords', 'Men Textured Leather Formal Slip-Ons', 'Men Textured Leather Formal Derbys', 'Men Solid Casual Sneakers', 'Men Solid Casual Sneakers', 'Women Leather Heeled Boots', 'Leather Kitten Heeled Boots with Buckles', 'Leather Block Heeled Boots', 'Women Leather Pumps', 'Leather Block Heeled Boots', 'Leather Kitten Heeled Boots', 'Women Leather Pumps', 'Block Heeled Boots', 'Women Textured Pumps', 'Women Running Shoes', 'Women Woven Design Sneakers', 'Women Charged Impulse Shft', 'Women Charged Rogue 2.5ClrSft', 'Women Eternity NITRO Shoes', 'Women Liberate NITRO Running', 'Women Velocity NITRO Runners', 'Women ELEVATED Leather Sneaker', 'Men DS LIGHT X-FLY 4 Running', 'Men Woven Design Sneakers', 'Women PRONOUNCE May Sneakers', 'Men Lightweight Brogues', 'Men GENERATION ZEROGRAND STITCHLITE', 'Men Leather Mid-Top Flat Boots', 'Men Textured Leather Loafers', 'Men Textured Leather Loafers', 'Men Leather Derbys', 'Men Woven Design Loafers', 'Men Solid Loafers', 'Men Solid Leather Formal Monks', 'Women Leather Sneakers', 'Men Solid Leather Formal Derbys', 'Solid Leather Formal Shoes', 'Men Lightweight Sneakers', 'Men Formal Leather Slip-Ons', 'Solid Slip On Shoes', 'Men Woven Design Sneakers', 'Men Solid Leather Formal Monks', 'Men Textured Leather Formal Loafers', 'Men Solid Leather Formal Derbys', 'Men Solid Suede Sneakers', 'Men Textured Formal Leather Loafers', 'Men Suede Flat Boots', 'Men Electrify Nitro Running', 'Men Leather Chelsea Boots', 'Men Black Walking Shoes', 'Women Leather Pumps', 'Men Running Shoes', 'Women Quilted Leather Pumps', 'Men Solid Brogues']\n",
      "100\n",
      "['Rs. 7195', 'Rs. 7995', 'Rs. 8099Rs. 8999(10% OFF)', 'Rs. 8249Rs. 10999(25% OFF)', 'Rs. 11249Rs. 14999(25% OFF)', 'Rs. 7195', 'Rs. 9999', 'Rs. 8999Rs. 9999(10% OFF)', 'Rs. 7499Rs. 9999(25% OFF)', 'Rs. 8449Rs. 12999(35% OFF)', 'Rs. 9349Rs. 10999(15% OFF)', 'Rs. 8999', 'Rs. 7999', 'Rs. 7499Rs. 9999(25% OFF)', 'Rs. 7999Rs. 9999(20% OFF)', 'Rs. 10599', 'Rs. 9099Rs. 12999(30% OFF)', 'Rs. 8999Rs. 9999(10% OFF)', 'Rs. 7999', 'Rs. 8999', 'Rs. 8999', 'Rs. 7999', 'Rs. 8999Rs. 9999(10% OFF)', 'Rs. 8249Rs. 10999(25% OFF)', 'Rs. 10900', 'Rs. 8999', 'Rs. 8499Rs. 9999(15% OFF)', 'Rs. 13900', 'Rs. 8990', 'Rs. 8999', 'Rs. 7999', 'Rs. 9099Rs. 12999(30% OFF)', 'Rs. 11999', 'Rs. 13490', 'Rs. 9999', 'Rs. 8999', 'Rs. 8490', 'Rs. 7999', 'Rs. 9999', 'Rs. 7999', 'Rs. 9999', 'Rs. 8499Rs. 9999(15% OFF)', 'Rs. 8999', 'Rs. 8999Rs. 9999(10% OFF)', 'Rs. 8990', 'Rs. 7192Rs. 8990(20% OFF)', 'Rs. 7990', 'Rs. 8990', 'Rs. 8999', 'Rs. 7199Rs. 8999(20% OFF)', 'Rs. 7199Rs. 8999(20% OFF)', 'Rs. 11000', 'Rs. 10900', 'Rs. 9999', 'Rs. 8999', 'Rs. 8900', 'Rs. 8900', 'Rs. 7999', 'Rs. 7590Rs. 7990(5% OFF)', 'Rs. 7599', 'Rs. 7199Rs. 8999(20% OFF)', 'Rs. 8999Rs. 14999(40% OFF)', 'Rs. 7499', 'Rs. 7999', 'Rs. 9099Rs. 12999(30% OFF)', 'Rs. 7499Rs. 9999(25% OFF)', 'Rs. 8249Rs. 10999(25% OFF)', 'Rs. 7599', 'Rs. 7699Rs. 10999(30% OFF)', 'Rs. 10499', 'Rs. 7499Rs. 9999(25% OFF)', 'Rs. 12799Rs. 15999(20% OFF)', 'Rs. 9599Rs. 11999(20% OFF)', 'Rs. 12999', 'Rs. 7990', 'Rs. 7990', 'Rs. 7199Rs. 7999(10% OFF)', 'Rs. 7999', 'Rs. 8990', 'Rs. 8990', 'Rs. 9999', 'Rs. 7199Rs. 8999(20% OFF)', 'Rs. 7990', 'Rs. 7999', 'Rs. 8990', 'Rs. 7990', 'Rs. 7999', 'Rs. 8990', 'Rs. 8990', 'Rs. 8990', 'Rs. 7999', 'Rs. 8990', 'Rs. 8999', 'Rs. 7499Rs. 9999(25% OFF)', 'Rs. 11900', 'Rs. 8999', 'Rs. 9999', 'Rs. 9999', 'Rs. 8999', 'Rs. 7999']\n",
      "100\n"
     ]
    }
   ],
   "source": [
    "#Using for loop for scraping 100 records\n",
    "\n",
    "import time \n",
    "for i in range(0,2) :\n",
    "    \n",
    "    br7=driver.find_elements_by_xpath(\"//div[@class='product-productMetaInfo']/h3\")\n",
    "    for i in br7 :\n",
    "        b7=i.text\n",
    "        brand7.append(b7)\n",
    "    print(brand7)\n",
    "    print(len(brand7))\n",
    "    \n",
    "    ds7=driver.find_elements_by_xpath(\"//div[@class='product-productMetaInfo']/h4\")\n",
    "    for i in ds7[0::2] :\n",
    "        d7=i.text\n",
    "        desc7.append(d7)\n",
    "    print(desc7)\n",
    "    print(len(desc7))\n",
    "    \n",
    "    pr7=driver.find_elements_by_xpath(\"//div[@class='product-productMetaInfo']//div[@class='product-price']\")\n",
    "    for i in pr7 :\n",
    "        p7=i.text\n",
    "        price7.append(p7)\n",
    "    print(price7)\n",
    "    print(len(price7))\n",
    "    \n",
    "    pgnext7=driver.find_element_by_xpath(\"//li[@class='pagination-next']/a\")\n",
    "    pgnext7.click()\n",
    "    \n",
    "    time.sleep(10)"
   ]
  },
  {
   "cell_type": "code",
   "execution_count": 168,
   "id": "ef4de2e6",
   "metadata": {},
   "outputs": [
    {
     "name": "stdout",
     "output_type": "stream",
     "text": [
      "100 100 100\n"
     ]
    }
   ],
   "source": [
    "#Printing array sizes\n",
    "print(len(brand7),len(desc7),len(price7))"
   ]
  },
  {
   "cell_type": "code",
   "execution_count": 169,
   "id": "8a812816",
   "metadata": {},
   "outputs": [
    {
     "data": {
      "text/html": [
       "<div>\n",
       "<style scoped>\n",
       "    .dataframe tbody tr th:only-of-type {\n",
       "        vertical-align: middle;\n",
       "    }\n",
       "\n",
       "    .dataframe tbody tr th {\n",
       "        vertical-align: top;\n",
       "    }\n",
       "\n",
       "    .dataframe thead th {\n",
       "        text-align: right;\n",
       "    }\n",
       "</style>\n",
       "<table border=\"1\" class=\"dataframe\">\n",
       "  <thead>\n",
       "    <tr style=\"text-align: right;\">\n",
       "      <th></th>\n",
       "      <th>Brand</th>\n",
       "      <th>Descrption</th>\n",
       "      <th>Price</th>\n",
       "    </tr>\n",
       "  </thead>\n",
       "  <tbody>\n",
       "    <tr>\n",
       "      <th>0</th>\n",
       "      <td>Nike</td>\n",
       "      <td>Men Zoom Span 4 Running Shoes</td>\n",
       "      <td>Rs. 7195</td>\n",
       "    </tr>\n",
       "    <tr>\n",
       "      <th>1</th>\n",
       "      <td>Nike</td>\n",
       "      <td>Men FLIGHT LEGACY Sneakers</td>\n",
       "      <td>Rs. 7995</td>\n",
       "    </tr>\n",
       "    <tr>\n",
       "      <th>2</th>\n",
       "      <td>Hush Puppies</td>\n",
       "      <td>Men Solid Leather Formal Slip-Ons</td>\n",
       "      <td>Rs. 8099Rs. 8999(10% OFF)</td>\n",
       "    </tr>\n",
       "    <tr>\n",
       "      <th>3</th>\n",
       "      <td>Calvin Klein</td>\n",
       "      <td>Men Mid-Top Runner Sneakers</td>\n",
       "      <td>Rs. 8249Rs. 10999(25% OFF)</td>\n",
       "    </tr>\n",
       "    <tr>\n",
       "      <th>4</th>\n",
       "      <td>Puma</td>\n",
       "      <td>Men Deviate Nitro Running Shoe</td>\n",
       "      <td>Rs. 11249Rs. 14999(25% OFF)</td>\n",
       "    </tr>\n",
       "    <tr>\n",
       "      <th>...</th>\n",
       "      <td>...</td>\n",
       "      <td>...</td>\n",
       "      <td>...</td>\n",
       "    </tr>\n",
       "    <tr>\n",
       "      <th>95</th>\n",
       "      <td>Bugatti</td>\n",
       "      <td>Men Black Walking Shoes</td>\n",
       "      <td>Rs. 8999</td>\n",
       "    </tr>\n",
       "    <tr>\n",
       "      <th>96</th>\n",
       "      <td>Geox</td>\n",
       "      <td>Women Leather Pumps</td>\n",
       "      <td>Rs. 9999</td>\n",
       "    </tr>\n",
       "    <tr>\n",
       "      <th>97</th>\n",
       "      <td>Bugatti</td>\n",
       "      <td>Men Running Shoes</td>\n",
       "      <td>Rs. 9999</td>\n",
       "    </tr>\n",
       "    <tr>\n",
       "      <th>98</th>\n",
       "      <td>Geox</td>\n",
       "      <td>Women Quilted Leather Pumps</td>\n",
       "      <td>Rs. 8999</td>\n",
       "    </tr>\n",
       "    <tr>\n",
       "      <th>99</th>\n",
       "      <td>KLEAT</td>\n",
       "      <td>Men Solid Brogues</td>\n",
       "      <td>Rs. 7999</td>\n",
       "    </tr>\n",
       "  </tbody>\n",
       "</table>\n",
       "<p>100 rows × 3 columns</p>\n",
       "</div>"
      ],
      "text/plain": [
       "           Brand                         Descrption  \\\n",
       "0           Nike      Men Zoom Span 4 Running Shoes   \n",
       "1           Nike         Men FLIGHT LEGACY Sneakers   \n",
       "2   Hush Puppies  Men Solid Leather Formal Slip-Ons   \n",
       "3   Calvin Klein        Men Mid-Top Runner Sneakers   \n",
       "4           Puma     Men Deviate Nitro Running Shoe   \n",
       "..           ...                                ...   \n",
       "95       Bugatti            Men Black Walking Shoes   \n",
       "96          Geox                Women Leather Pumps   \n",
       "97       Bugatti                  Men Running Shoes   \n",
       "98          Geox        Women Quilted Leather Pumps   \n",
       "99         KLEAT                  Men Solid Brogues   \n",
       "\n",
       "                          Price  \n",
       "0                      Rs. 7195  \n",
       "1                      Rs. 7995  \n",
       "2     Rs. 8099Rs. 8999(10% OFF)  \n",
       "3    Rs. 8249Rs. 10999(25% OFF)  \n",
       "4   Rs. 11249Rs. 14999(25% OFF)  \n",
       "..                          ...  \n",
       "95                     Rs. 8999  \n",
       "96                     Rs. 9999  \n",
       "97                     Rs. 9999  \n",
       "98                     Rs. 8999  \n",
       "99                     Rs. 7999  \n",
       "\n",
       "[100 rows x 3 columns]"
      ]
     },
     "execution_count": 169,
     "metadata": {},
     "output_type": "execute_result"
    }
   ],
   "source": [
    "#Making DataFrames\n",
    "df7=pd.DataFrame({'Brand':brand7,'Descrption':desc7,'Price':price7})\n",
    "df7"
   ]
  },
  {
   "cell_type": "markdown",
   "id": "d0bb1f3d",
   "metadata": {},
   "source": [
    "## Q8: Go to webpage https://www.amazon.in/ "
   ]
  },
  {
   "cell_type": "code",
   "execution_count": 34,
   "id": "94ce422f",
   "metadata": {},
   "outputs": [],
   "source": [
    "url8='https://www.amazon.in/'\n",
    "driver.get(url8)"
   ]
  },
  {
   "cell_type": "markdown",
   "id": "caf69ecd",
   "metadata": {},
   "source": [
    "### Enter “Laptop” in the search field and then click the search icon. "
   ]
  },
  {
   "cell_type": "code",
   "execution_count": 35,
   "id": "61217a18",
   "metadata": {},
   "outputs": [],
   "source": [
    "fill8=driver.find_element_by_xpath(\"//div[@class='nav-search-field ']/input\")\n",
    "fill8.send_keys('Laptop')"
   ]
  },
  {
   "cell_type": "code",
   "execution_count": 36,
   "id": "81387673",
   "metadata": {},
   "outputs": [],
   "source": [
    "search8=driver.find_element_by_xpath(\"//div[@class='nav-search-submit nav-sprite']\")\n",
    "search8.click()"
   ]
  },
  {
   "cell_type": "markdown",
   "id": "8b6a59d1",
   "metadata": {},
   "source": [
    "### Then set CPU Type filter to “Intel Core i7” and “Intel Core i9”"
   ]
  },
  {
   "cell_type": "code",
   "execution_count": 41,
   "id": "c9486aca",
   "metadata": {},
   "outputs": [],
   "source": [
    "# Could not see 'Intel Core i9' in CPU Type filter on the website hence filtering for 'Intel Core i7' and 'Intel Core i5'\n",
    "\n",
    "filter1=driver.find_elements_by_xpath(\"//a[@class='a-link-normal s-navigation-item']/span\")\n",
    "for i in filter1 :\n",
    "    if i.text=='Intel Core i7' :\n",
    "        i.click()\n",
    "        break"
   ]
  },
  {
   "cell_type": "code",
   "execution_count": 43,
   "id": "1430638a",
   "metadata": {},
   "outputs": [],
   "source": [
    "filter2=driver.find_elements_by_xpath(\"//a[@class='a-link-normal s-navigation-item']/span\")\n",
    "for j in filter2 :\n",
    "    if j.text=='Intel Core i5' :\n",
    "        j.click()\n",
    "        break"
   ]
  },
  {
   "cell_type": "markdown",
   "id": "c5ceadb6",
   "metadata": {},
   "source": [
    "### After setting the filters scrape first 10 laptops data. You have to scrape 3 attributes for each laptop: 1. Title 2. Ratings 3. Price."
   ]
  },
  {
   "cell_type": "code",
   "execution_count": 49,
   "id": "6a681251",
   "metadata": {},
   "outputs": [
    {
     "data": {
      "text/plain": [
       "['LG Gram 17 Ultra-Light 11th Gen Intel Core i5 17 inches Business Laptop (8 GB RAM, 512 GB SSD, Windows 10 Home, Iris Xe Graphics, Thunderbolt 4, USC C x 2 with Power, 1.35 kg, Black - 17Z90P-G.AJ55A2',\n",
       " 'Lenovo ThinkBook 13s Intel 11th Gen Core i5 13.3\"(33.78 cm) WQXGA IPS 300 nits 100% sRGB Dolby Vision Thin and Light Laptop (16GB/1TB SSD/Windows 10/MS Office/FPR/Mineral Grey/1.26 Kg), 20V9A05JIH',\n",
       " '(Renewed) Dell Latitude Intel 4th Gen Core i5 14-Inch (35.56 cms) 1366x768 Laptop (4 GB/120 GB SSD/Windows 10/Integrated Graphics/Gray/2 kg), E5440-i5-4 GB-120 GB',\n",
       " '(Renewed) Fujitsu Intel Core i5 3340M 15.6-Inch (39.62 cms) 1366 X 768 Laptop (4 GB/320 GB HDD/Windows/Intel HD Graphics/Black/2.40 Kg), A573',\n",
       " 'HP 14 11th Gen Intel Core i5 Processor 14 inches HD Gaming Laptop, 8GB/512GB SSD/Windows 10/MS Office (Natural Silver/1.46Kg), 14s-dq2535TU',\n",
       " '(Renewed) Dell Latitude 14-inch (35.56 cm) HD Business Laptop (Core i5 3rd Gen/8 GB RAM/500 GB/Webcam/Wifi/Bluetooth 4.0/USB 3.0/Windows 10 Pro/MS Office 19/Pan India Warranty)',\n",
       " 'HP Pavilion (2021) Intel 11th Gen Core i5 14 inches FHD Screen Thin & Light Laptop, 16GB RAM, 512GB SSD, Iris Xe Graphics, Windows 11, MS Office, Backlit Keyboard, 1.41kg, Natural Silver (14-dv0054TU)',\n",
       " 'Acer Nitro 5 AN515-57 Gaming Laptop | Intel Core i5-11400H |NVIDIA GeForce RTX 3050 Laptop Graphics |15.6\" FHD 144Hz IPS Display |8GB DDR4 | 256GB SSD+1TB HDD | Killer Wi-Fi 6 | RGB Backlit Keyboard',\n",
       " 'HP 15 11th Gen Intel Core i5 Processor 39.62 cm (15.6-inch) FHD Laptop (8GB/512GB SSD +32GB Intel Optane/Win 10/MS Office/Jet Black/1.69 Kg), 15s-fq2071TU',\n",
       " 'Mi Notebook Ultra 3K Resolution Display Intel Core i5-11300H 11th Gen 15.6-inch(39.62 cms) Thin and Light Laptop (8GB/512GB SSD/Iris Xe Graphics/Win 10/MS Office/Backlit KB/Fingerprint Sensor/1.7Kg)']"
      ]
     },
     "execution_count": 49,
     "metadata": {},
     "output_type": "execute_result"
    }
   ],
   "source": [
    "title8=[]\n",
    "tt8=driver.find_elements_by_xpath(\"//span[@class='a-size-medium a-color-base a-text-normal']\")\n",
    "for i in tt8[0:10] :\n",
    "    t8=i.text\n",
    "    title8.append(t8)\n",
    "title8"
   ]
  },
  {
   "cell_type": "code",
   "execution_count": 53,
   "id": "6a5df426",
   "metadata": {},
   "outputs": [],
   "source": [
    "rating8=[]\n",
    "rt8=driver.find_elements_by_xpath(\"//a[@class='a-popover-trigger a-declarative']/i/span\")\n",
    "#(\"//div[@class='a-section a-spacing-none a-spacing-top-micro']//a[@class='a-popover-trigger a-declarative']//i\")\n",
    "rt8\n",
    "\n",
    "for i in rt8[0:10] :\n",
    "    r8=i.text\n",
    "    rating8.append(r8)\n",
    "#rating8\n",
    "\n",
    "#Rating is not getting displayed."
   ]
  },
  {
   "cell_type": "code",
   "execution_count": 54,
   "id": "bf1e805d",
   "metadata": {},
   "outputs": [
    {
     "data": {
      "text/plain": [
       "['₹85,589',\n",
       " '₹76,990',\n",
       " '₹24,990',\n",
       " '₹23,990',\n",
       " '₹56,490',\n",
       " '₹28,490',\n",
       " '₹66,990',\n",
       " '₹76,990',\n",
       " '₹55,990',\n",
       " '₹59,999']"
      ]
     },
     "execution_count": 54,
     "metadata": {},
     "output_type": "execute_result"
    }
   ],
   "source": [
    "price8=[]\n",
    "pr8=driver.find_elements_by_xpath(\"//span[@class='a-price']/span[2]\")\n",
    "\n",
    "for i in pr8[0:10] :\n",
    "    p8=i.text\n",
    "    price8.append(p8)\n",
    "price8"
   ]
  },
  {
   "cell_type": "code",
   "execution_count": 55,
   "id": "923a3fa8",
   "metadata": {},
   "outputs": [
    {
     "name": "stdout",
     "output_type": "stream",
     "text": [
      "10 10 10\n"
     ]
    }
   ],
   "source": [
    "print(len(title8),len(rating8),len(price8))"
   ]
  },
  {
   "cell_type": "code",
   "execution_count": 56,
   "id": "c0165003",
   "metadata": {},
   "outputs": [
    {
     "data": {
      "text/html": [
       "<div>\n",
       "<style scoped>\n",
       "    .dataframe tbody tr th:only-of-type {\n",
       "        vertical-align: middle;\n",
       "    }\n",
       "\n",
       "    .dataframe tbody tr th {\n",
       "        vertical-align: top;\n",
       "    }\n",
       "\n",
       "    .dataframe thead th {\n",
       "        text-align: right;\n",
       "    }\n",
       "</style>\n",
       "<table border=\"1\" class=\"dataframe\">\n",
       "  <thead>\n",
       "    <tr style=\"text-align: right;\">\n",
       "      <th></th>\n",
       "      <th>Title</th>\n",
       "      <th>Rating</th>\n",
       "      <th>Price</th>\n",
       "    </tr>\n",
       "  </thead>\n",
       "  <tbody>\n",
       "    <tr>\n",
       "      <th>0</th>\n",
       "      <td>LG Gram 17 Ultra-Light 11th Gen Intel Core i5 ...</td>\n",
       "      <td></td>\n",
       "      <td>₹85,589</td>\n",
       "    </tr>\n",
       "    <tr>\n",
       "      <th>1</th>\n",
       "      <td>Lenovo ThinkBook 13s Intel 11th Gen Core i5 13...</td>\n",
       "      <td></td>\n",
       "      <td>₹76,990</td>\n",
       "    </tr>\n",
       "    <tr>\n",
       "      <th>2</th>\n",
       "      <td>(Renewed) Dell Latitude Intel 4th Gen Core i5 ...</td>\n",
       "      <td></td>\n",
       "      <td>₹24,990</td>\n",
       "    </tr>\n",
       "    <tr>\n",
       "      <th>3</th>\n",
       "      <td>(Renewed) Fujitsu Intel Core i5 3340M 15.6-Inc...</td>\n",
       "      <td></td>\n",
       "      <td>₹23,990</td>\n",
       "    </tr>\n",
       "    <tr>\n",
       "      <th>4</th>\n",
       "      <td>HP 14 11th Gen Intel Core i5 Processor 14 inch...</td>\n",
       "      <td></td>\n",
       "      <td>₹56,490</td>\n",
       "    </tr>\n",
       "    <tr>\n",
       "      <th>5</th>\n",
       "      <td>(Renewed) Dell Latitude 14-inch (35.56 cm) HD ...</td>\n",
       "      <td></td>\n",
       "      <td>₹28,490</td>\n",
       "    </tr>\n",
       "    <tr>\n",
       "      <th>6</th>\n",
       "      <td>HP Pavilion (2021) Intel 11th Gen Core i5 14 i...</td>\n",
       "      <td></td>\n",
       "      <td>₹66,990</td>\n",
       "    </tr>\n",
       "    <tr>\n",
       "      <th>7</th>\n",
       "      <td>Acer Nitro 5 AN515-57 Gaming Laptop | Intel Co...</td>\n",
       "      <td></td>\n",
       "      <td>₹76,990</td>\n",
       "    </tr>\n",
       "    <tr>\n",
       "      <th>8</th>\n",
       "      <td>HP 15 11th Gen Intel Core i5 Processor 39.62 c...</td>\n",
       "      <td></td>\n",
       "      <td>₹55,990</td>\n",
       "    </tr>\n",
       "    <tr>\n",
       "      <th>9</th>\n",
       "      <td>Mi Notebook Ultra 3K Resolution Display Intel ...</td>\n",
       "      <td></td>\n",
       "      <td>₹59,999</td>\n",
       "    </tr>\n",
       "  </tbody>\n",
       "</table>\n",
       "</div>"
      ],
      "text/plain": [
       "                                               Title Rating    Price\n",
       "0  LG Gram 17 Ultra-Light 11th Gen Intel Core i5 ...         ₹85,589\n",
       "1  Lenovo ThinkBook 13s Intel 11th Gen Core i5 13...         ₹76,990\n",
       "2  (Renewed) Dell Latitude Intel 4th Gen Core i5 ...         ₹24,990\n",
       "3  (Renewed) Fujitsu Intel Core i5 3340M 15.6-Inc...         ₹23,990\n",
       "4  HP 14 11th Gen Intel Core i5 Processor 14 inch...         ₹56,490\n",
       "5  (Renewed) Dell Latitude 14-inch (35.56 cm) HD ...         ₹28,490\n",
       "6  HP Pavilion (2021) Intel 11th Gen Core i5 14 i...         ₹66,990\n",
       "7  Acer Nitro 5 AN515-57 Gaming Laptop | Intel Co...         ₹76,990\n",
       "8  HP 15 11th Gen Intel Core i5 Processor 39.62 c...         ₹55,990\n",
       "9  Mi Notebook Ultra 3K Resolution Display Intel ...         ₹59,999"
      ]
     },
     "execution_count": 56,
     "metadata": {},
     "output_type": "execute_result"
    }
   ],
   "source": [
    "df8=pd.DataFrame({'Title':title8,'Rating':rating8,'Price':price8})\n",
    "df8"
   ]
  },
  {
   "cell_type": "markdown",
   "id": "1c8942c4",
   "metadata": {},
   "source": [
    "## Q9: Write a python program to scrape data for first 10 job results for Data Scientist Designation in Noida location. You have to scrape company name, No. of days ago when job was posted, Rating of the company."
   ]
  },
  {
   "cell_type": "markdown",
   "id": "89b2c3ae",
   "metadata": {},
   "source": [
    "### 1. First get the webpage https://www.ambitionbox.com/"
   ]
  },
  {
   "cell_type": "code",
   "execution_count": 160,
   "id": "f5531918",
   "metadata": {},
   "outputs": [],
   "source": [
    "url9='https://www.ambitionbox.com/'\n",
    "driver.get(url9)"
   ]
  },
  {
   "cell_type": "markdown",
   "id": "2364731a",
   "metadata": {},
   "source": [
    "### 2. Click on the Job option "
   ]
  },
  {
   "cell_type": "code",
   "execution_count": 162,
   "id": "25d57087",
   "metadata": {},
   "outputs": [],
   "source": [
    "job9=driver.find_element_by_xpath(\"//a[@class='link jobs']\")\n",
    "job9.click()"
   ]
  },
  {
   "cell_type": "markdown",
   "id": "c713e84f",
   "metadata": {},
   "source": [
    "### 3. After reaching to the next webpage, In place of “Search by Designations, Companies, Skills” enter “Data Scientist” and click on search button. "
   ]
  },
  {
   "cell_type": "code",
   "execution_count": 165,
   "id": "3c621635",
   "metadata": {},
   "outputs": [],
   "source": [
    "fill9=driver.find_element_by_xpath(\"//span[@class='twitter-typeahead']/input\")\n",
    "fill9.send_keys('Data Scientist')"
   ]
  },
  {
   "cell_type": "code",
   "execution_count": 166,
   "id": "9cc5b93b",
   "metadata": {},
   "outputs": [],
   "source": [
    "search9=driver.find_element_by_xpath(\"//button[@class='ab_btn search-btn round']\")\n",
    "search9.click()"
   ]
  },
  {
   "cell_type": "markdown",
   "id": "c5b4ca79",
   "metadata": {},
   "source": [
    "### 4. You will reach to the following web page click on location and in place of “Search location” enter “Noida” and select location “Noida”. "
   ]
  },
  {
   "cell_type": "code",
   "execution_count": 177,
   "id": "baa1731c",
   "metadata": {},
   "outputs": [],
   "source": [
    "loc9=driver.find_element_by_xpath(\"//div[@title='Location']/i\")\n",
    "loc9.click()"
   ]
  },
  {
   "cell_type": "code",
   "execution_count": 178,
   "id": "5bb0b3de",
   "metadata": {},
   "outputs": [],
   "source": [
    "enter9=driver.find_element_by_xpath(\"//div[@class='filter-item'][2]//div[@class='filter-data undefined']//div[@class='searchbox']/input\")\n",
    "enter9.send_keys('Noida')"
   ]
  },
  {
   "cell_type": "code",
   "execution_count": 179,
   "id": "9cafbb00",
   "metadata": {},
   "outputs": [],
   "source": [
    "radio9=driver.find_element_by_xpath(\"//div[@class='filter-item'][2]//div[@class='filter-data undefined']//div[@class='radio']/label\")\n",
    "radio9.click()"
   ]
  },
  {
   "cell_type": "markdown",
   "id": "5da79fcf",
   "metadata": {},
   "source": [
    "### 5. Then scrape the data for the first 10 jobs results you get on the above shown page. "
   ]
  },
  {
   "cell_type": "code",
   "execution_count": 189,
   "id": "b70ac6ba",
   "metadata": {},
   "outputs": [
    {
     "data": {
      "text/plain": [
       "['Optum Global Solutions (India) Private Limited',\n",
       " 'Steria India Ltd',\n",
       " 'Ameriprise Financial',\n",
       " 'Jubilant Foodworks Limited',\n",
       " 'Optum Global Solutions (India) Private Limited',\n",
       " 'Steria India Ltd',\n",
       " 'Steria India Ltd',\n",
       " 'HCL Technologies Limited',\n",
       " 'Zyoin',\n",
       " 'GI Group']"
      ]
     },
     "execution_count": 189,
     "metadata": {},
     "output_type": "execute_result"
    }
   ],
   "source": [
    "company9=[]\n",
    "cm9=driver.find_elements_by_xpath(\"//div[@class='company-info']/p\")\n",
    "for i in cm9[1:] :\n",
    "    c9=i.text\n",
    "    company9.append(c9)\n",
    "company9"
   ]
  },
  {
   "cell_type": "code",
   "execution_count": 190,
   "id": "b865c5e3",
   "metadata": {},
   "outputs": [
    {
     "data": {
      "text/plain": [
       "['8d ago',\n",
       " '1d ago',\n",
       " '3d ago',\n",
       " '12hr ago',\n",
       " '30d ago',\n",
       " '20d ago',\n",
       " '20d ago',\n",
       " '1mon ago',\n",
       " '2d ago',\n",
       " '8hr ago']"
      ]
     },
     "execution_count": 190,
     "metadata": {},
     "output_type": "execute_result"
    }
   ],
   "source": [
    "posted9=[]\n",
    "ps9=driver.find_elements_by_xpath(\"//div[@class='other-info']/span[1]\")\n",
    "for i in ps9 : \n",
    "    p9=i.text\n",
    "    posted9.append(p9)\n",
    "posted9"
   ]
  },
  {
   "cell_type": "code",
   "execution_count": 191,
   "id": "7cf99083",
   "metadata": {},
   "outputs": [
    {
     "data": {
      "text/plain": [
       "['4.1', '4.1', '4.1', '3.9', '4.1', '4.1', '4.1', '3.8', '4.2', '3.9']"
      ]
     },
     "execution_count": 191,
     "metadata": {},
     "output_type": "execute_result"
    }
   ],
   "source": [
    "rating9=[]\n",
    "rt9=driver.find_elements_by_xpath(\"//div[@class='info']//div[@class='company-info']//div[@class='rating-wrapper']/a/span\")\n",
    "for i in rt9 :\n",
    "    r9=i.text\n",
    "    rating9.append(r9)\n",
    "rating9"
   ]
  },
  {
   "cell_type": "markdown",
   "id": "a6df7739",
   "metadata": {},
   "source": [
    "### 6. Finally create a dataframe of the scraped data. "
   ]
  },
  {
   "cell_type": "code",
   "execution_count": 192,
   "id": "ee952c01",
   "metadata": {},
   "outputs": [
    {
     "name": "stdout",
     "output_type": "stream",
     "text": [
      "10 10 10\n"
     ]
    }
   ],
   "source": [
    "print(len(company9),len(posted9),len(rating9))"
   ]
  },
  {
   "cell_type": "code",
   "execution_count": 193,
   "id": "b1c5efd1",
   "metadata": {},
   "outputs": [
    {
     "data": {
      "text/html": [
       "<div>\n",
       "<style scoped>\n",
       "    .dataframe tbody tr th:only-of-type {\n",
       "        vertical-align: middle;\n",
       "    }\n",
       "\n",
       "    .dataframe tbody tr th {\n",
       "        vertical-align: top;\n",
       "    }\n",
       "\n",
       "    .dataframe thead th {\n",
       "        text-align: right;\n",
       "    }\n",
       "</style>\n",
       "<table border=\"1\" class=\"dataframe\">\n",
       "  <thead>\n",
       "    <tr style=\"text-align: right;\">\n",
       "      <th></th>\n",
       "      <th>Company Name</th>\n",
       "      <th>Job Posted On</th>\n",
       "      <th>Company Rating</th>\n",
       "    </tr>\n",
       "  </thead>\n",
       "  <tbody>\n",
       "    <tr>\n",
       "      <th>0</th>\n",
       "      <td>Optum Global Solutions (India) Private Limited</td>\n",
       "      <td>8d ago</td>\n",
       "      <td>4.1</td>\n",
       "    </tr>\n",
       "    <tr>\n",
       "      <th>1</th>\n",
       "      <td>Steria India Ltd</td>\n",
       "      <td>1d ago</td>\n",
       "      <td>4.1</td>\n",
       "    </tr>\n",
       "    <tr>\n",
       "      <th>2</th>\n",
       "      <td>Ameriprise Financial</td>\n",
       "      <td>3d ago</td>\n",
       "      <td>4.1</td>\n",
       "    </tr>\n",
       "    <tr>\n",
       "      <th>3</th>\n",
       "      <td>Jubilant Foodworks Limited</td>\n",
       "      <td>12hr ago</td>\n",
       "      <td>3.9</td>\n",
       "    </tr>\n",
       "    <tr>\n",
       "      <th>4</th>\n",
       "      <td>Optum Global Solutions (India) Private Limited</td>\n",
       "      <td>30d ago</td>\n",
       "      <td>4.1</td>\n",
       "    </tr>\n",
       "    <tr>\n",
       "      <th>5</th>\n",
       "      <td>Steria India Ltd</td>\n",
       "      <td>20d ago</td>\n",
       "      <td>4.1</td>\n",
       "    </tr>\n",
       "    <tr>\n",
       "      <th>6</th>\n",
       "      <td>Steria India Ltd</td>\n",
       "      <td>20d ago</td>\n",
       "      <td>4.1</td>\n",
       "    </tr>\n",
       "    <tr>\n",
       "      <th>7</th>\n",
       "      <td>HCL Technologies Limited</td>\n",
       "      <td>1mon ago</td>\n",
       "      <td>3.8</td>\n",
       "    </tr>\n",
       "    <tr>\n",
       "      <th>8</th>\n",
       "      <td>Zyoin</td>\n",
       "      <td>2d ago</td>\n",
       "      <td>4.2</td>\n",
       "    </tr>\n",
       "    <tr>\n",
       "      <th>9</th>\n",
       "      <td>GI Group</td>\n",
       "      <td>8hr ago</td>\n",
       "      <td>3.9</td>\n",
       "    </tr>\n",
       "  </tbody>\n",
       "</table>\n",
       "</div>"
      ],
      "text/plain": [
       "                                     Company Name Job Posted On Company Rating\n",
       "0  Optum Global Solutions (India) Private Limited        8d ago            4.1\n",
       "1                                Steria India Ltd        1d ago            4.1\n",
       "2                            Ameriprise Financial        3d ago            4.1\n",
       "3                      Jubilant Foodworks Limited      12hr ago            3.9\n",
       "4  Optum Global Solutions (India) Private Limited       30d ago            4.1\n",
       "5                                Steria India Ltd       20d ago            4.1\n",
       "6                                Steria India Ltd       20d ago            4.1\n",
       "7                        HCL Technologies Limited      1mon ago            3.8\n",
       "8                                           Zyoin        2d ago            4.2\n",
       "9                                        GI Group       8hr ago            3.9"
      ]
     },
     "execution_count": 193,
     "metadata": {},
     "output_type": "execute_result"
    }
   ],
   "source": [
    "df8=pd.DataFrame({'Company Name':company9,'Job Posted On':posted9,'Company Rating':rating9})\n",
    "df8"
   ]
  },
  {
   "cell_type": "markdown",
   "id": "899418d9",
   "metadata": {},
   "source": [
    "## Q10: Write a python program to scrape the salary data for Data Scientist designation. You have to scrape Company name, Number of salaries, Average salary, Min salary, Max Salary. "
   ]
  },
  {
   "cell_type": "markdown",
   "id": "521f937b",
   "metadata": {},
   "source": [
    "### 1. First get the webpage https://www.ambitionbox.com/"
   ]
  },
  {
   "cell_type": "code",
   "execution_count": 195,
   "id": "deca56ae",
   "metadata": {},
   "outputs": [],
   "source": [
    "url10='https://www.ambitionbox.com/'\n",
    "driver.get(url10)"
   ]
  },
  {
   "cell_type": "markdown",
   "id": "6f4601e4",
   "metadata": {},
   "source": [
    "### 2. Click on the salaries option..."
   ]
  },
  {
   "cell_type": "code",
   "execution_count": 197,
   "id": "95440cda",
   "metadata": {},
   "outputs": [],
   "source": [
    "tab10=driver.find_element_by_xpath(\"//a[@class='link salaries']\")\n",
    "tab10.click()"
   ]
  },
  {
   "cell_type": "markdown",
   "id": "e798da29",
   "metadata": {},
   "source": [
    "### 3. After reaching to the following webpage, In place of “Search Job Profile” enters “Data Scientist” and then click on “Data Scientist”."
   ]
  },
  {
   "cell_type": "code",
   "execution_count": 201,
   "id": "d76060e4",
   "metadata": {},
   "outputs": [],
   "source": [
    "fill10=driver.find_element_by_xpath(\"//div[@class='searchbox-wrapper']//span[@class='twitter-typeahead']/input\")\n",
    "fill10.send_keys('Data Scientist')"
   ]
  },
  {
   "cell_type": "code",
   "execution_count": 202,
   "id": "f4286fee",
   "metadata": {},
   "outputs": [],
   "source": [
    "list10=driver.find_element_by_xpath(\"//div[@class='suggestion_wrap tt-suggestion tt-selectable']/div/div/p\")\n",
    "list10.click()"
   ]
  },
  {
   "cell_type": "markdown",
   "id": "9858ca46",
   "metadata": {},
   "source": [
    "### 4. Scrape the data for the first 10 companies. Scrape the company name, total salary record, average salary, minimum salary, maximum salary, experience required. "
   ]
  },
  {
   "cell_type": "code",
   "execution_count": 205,
   "id": "193d2cf3",
   "metadata": {},
   "outputs": [
    {
     "data": {
      "text/plain": [
       "['Ab Inbev',\n",
       " 'Optum',\n",
       " 'Fractal Analytics',\n",
       " 'Tiger Analytics',\n",
       " 'UnitedHealth',\n",
       " 'Verizon',\n",
       " 'Ganit Business Solutions',\n",
       " 'Deloitte',\n",
       " 'Ernst & Young',\n",
       " 'Ericsson']"
      ]
     },
     "execution_count": 205,
     "metadata": {},
     "output_type": "execute_result"
    }
   ],
   "source": [
    "company10=[]\n",
    "cm10=driver.find_elements_by_xpath(\"//div[@class='company-info']/div/a\")\n",
    "for i in cm10 :\n",
    "    c10=i.text\n",
    "    company10.append(c10)\n",
    "company10"
   ]
  },
  {
   "cell_type": "code",
   "execution_count": 209,
   "id": "ef60eaad",
   "metadata": {},
   "outputs": [
    {
     "data": {
      "text/plain": [
       "['based on 10 salaries',\n",
       " 'based on 22 salaries',\n",
       " 'based on 60 salaries',\n",
       " 'based on 24 salaries',\n",
       " 'based on 45 salaries',\n",
       " 'based on 14 salaries',\n",
       " 'based on 12 salaries',\n",
       " 'based on 45 salaries',\n",
       " 'based on 26 salaries',\n",
       " 'based on 43 salaries']"
      ]
     },
     "execution_count": 209,
     "metadata": {},
     "output_type": "execute_result"
    }
   ],
   "source": [
    "total_sal10=[]\n",
    "ts10=driver.find_elements_by_xpath(\"//div[@class='company-info']//div[@class='name']/span\")\n",
    "for i in ts10 :\n",
    "    t10=i.text\n",
    "    total_sal10.append(t10)\n",
    "total_sal10"
   ]
  },
  {
   "cell_type": "code",
   "execution_count": 211,
   "id": "bd7bae6b",
   "metadata": {},
   "outputs": [
    {
     "data": {
      "text/plain": [
       "['₹ 19.4L',\n",
       " '₹ 15.1L',\n",
       " '₹ 14.7L',\n",
       " '₹ 13.4L',\n",
       " '₹ 13.3L',\n",
       " '₹ 12.7L',\n",
       " '₹ 12.4L',\n",
       " '₹ 11.2L',\n",
       " '₹ 11.1L',\n",
       " '₹ 10.9L']"
      ]
     },
     "execution_count": 211,
     "metadata": {},
     "output_type": "execute_result"
    }
   ],
   "source": [
    "avg_sal10=[]\n",
    "as10=driver.find_elements_by_xpath(\"//div[@class='average-indicator-wrapper']/p\")\n",
    "for i in as10 :\n",
    "    a10=i.text\n",
    "    avg_sal10.append(a10)\n",
    "avg_sal10"
   ]
  },
  {
   "cell_type": "code",
   "execution_count": 212,
   "id": "22ee4bbf",
   "metadata": {},
   "outputs": [
    {
     "data": {
      "text/plain": [
       "['₹ 15.0L',\n",
       " '₹ 11.0L',\n",
       " '₹ 9.0L',\n",
       " '₹ 8.3L',\n",
       " '₹ 7.2L',\n",
       " '₹ 10.0L',\n",
       " '₹ 8.5L',\n",
       " '₹ 6.9L',\n",
       " '₹ 6.0L',\n",
       " '₹ 5.0L']"
      ]
     },
     "execution_count": 212,
     "metadata": {},
     "output_type": "execute_result"
    }
   ],
   "source": [
    "min_sal=[]\n",
    "min=driver.find_elements_by_xpath(\"//div[@class='value body-medium'][1]\")\n",
    "for i in min :\n",
    "    mn=i.text\n",
    "    min_sal.append(mn)\n",
    "min_sal"
   ]
  },
  {
   "cell_type": "code",
   "execution_count": 213,
   "id": "883ab7d1",
   "metadata": {},
   "outputs": [
    {
     "data": {
      "text/plain": [
       "['₹ 23.0L',\n",
       " '₹ 21.3L',\n",
       " '₹ 20.8L',\n",
       " '₹ 18.5L',\n",
       " '₹ 20.5L',\n",
       " '₹ 21.0L',\n",
       " '₹ 15.0L',\n",
       " '₹ 20.5L',\n",
       " '₹ 20.0L',\n",
       " '₹ 21.5L']"
      ]
     },
     "execution_count": 213,
     "metadata": {},
     "output_type": "execute_result"
    }
   ],
   "source": [
    "max_sal=[]\n",
    "max=driver.find_elements_by_xpath(\"//div[@class='value body-medium'][2]\")\n",
    "for i in max :\n",
    "    mx=i.text\n",
    "    max_sal.append(mx)\n",
    "max_sal"
   ]
  },
  {
   "cell_type": "code",
   "execution_count": 219,
   "id": "2944310c",
   "metadata": {},
   "outputs": [
    {
     "data": {
      "text/plain": [
       "['4 yrs exp',\n",
       " '3-4 yrs exp',\n",
       " '2-4 yrs exp',\n",
       " '3-4 yrs exp',\n",
       " '2-4 yrs exp',\n",
       " '4 yrs exp',\n",
       " '4 yrs exp',\n",
       " '2-4 yrs exp',\n",
       " '3-4 yrs exp',\n",
       " '3-4 yrs exp']"
      ]
     },
     "execution_count": 219,
     "metadata": {},
     "output_type": "execute_result"
    }
   ],
   "source": [
    "exp_req=[]\n",
    "exp=driver.find_elements_by_xpath(\"//div[@class='salaries sbold-list-header']\")\n",
    "for i in exp :\n",
    "    ex=i.text.split('\\n')[2]\n",
    "    exp_req.append(ex)\n",
    "exp_req"
   ]
  },
  {
   "cell_type": "markdown",
   "id": "15f8ec3f",
   "metadata": {},
   "source": [
    "### 5. Store the data in a dataframe. "
   ]
  },
  {
   "cell_type": "code",
   "execution_count": 220,
   "id": "610648ba",
   "metadata": {},
   "outputs": [
    {
     "name": "stdout",
     "output_type": "stream",
     "text": [
      "10 10 10 10 10 10\n"
     ]
    }
   ],
   "source": [
    "print(len(company10),len(total_sal10),len(avg_sal10),len(min_sal),len(max_sal),len(exp_req))"
   ]
  },
  {
   "cell_type": "code",
   "execution_count": 223,
   "id": "4837cd65",
   "metadata": {},
   "outputs": [
    {
     "data": {
      "text/html": [
       "<div>\n",
       "<style scoped>\n",
       "    .dataframe tbody tr th:only-of-type {\n",
       "        vertical-align: middle;\n",
       "    }\n",
       "\n",
       "    .dataframe tbody tr th {\n",
       "        vertical-align: top;\n",
       "    }\n",
       "\n",
       "    .dataframe thead th {\n",
       "        text-align: right;\n",
       "    }\n",
       "</style>\n",
       "<table border=\"1\" class=\"dataframe\">\n",
       "  <thead>\n",
       "    <tr style=\"text-align: right;\">\n",
       "      <th></th>\n",
       "      <th>Company Name</th>\n",
       "      <th>Total Salary</th>\n",
       "      <th>Average Salary</th>\n",
       "      <th>Minimum Salary</th>\n",
       "      <th>Maximum Salary</th>\n",
       "      <th>Experience Required</th>\n",
       "    </tr>\n",
       "  </thead>\n",
       "  <tbody>\n",
       "    <tr>\n",
       "      <th>0</th>\n",
       "      <td>Ab Inbev</td>\n",
       "      <td>based on 10 salaries</td>\n",
       "      <td>₹ 19.4L</td>\n",
       "      <td>₹ 15.0L</td>\n",
       "      <td>₹ 23.0L</td>\n",
       "      <td>4 yrs exp</td>\n",
       "    </tr>\n",
       "    <tr>\n",
       "      <th>1</th>\n",
       "      <td>Optum</td>\n",
       "      <td>based on 22 salaries</td>\n",
       "      <td>₹ 15.1L</td>\n",
       "      <td>₹ 11.0L</td>\n",
       "      <td>₹ 21.3L</td>\n",
       "      <td>3-4 yrs exp</td>\n",
       "    </tr>\n",
       "    <tr>\n",
       "      <th>2</th>\n",
       "      <td>Fractal Analytics</td>\n",
       "      <td>based on 60 salaries</td>\n",
       "      <td>₹ 14.7L</td>\n",
       "      <td>₹ 9.0L</td>\n",
       "      <td>₹ 20.8L</td>\n",
       "      <td>2-4 yrs exp</td>\n",
       "    </tr>\n",
       "    <tr>\n",
       "      <th>3</th>\n",
       "      <td>Tiger Analytics</td>\n",
       "      <td>based on 24 salaries</td>\n",
       "      <td>₹ 13.4L</td>\n",
       "      <td>₹ 8.3L</td>\n",
       "      <td>₹ 18.5L</td>\n",
       "      <td>3-4 yrs exp</td>\n",
       "    </tr>\n",
       "    <tr>\n",
       "      <th>4</th>\n",
       "      <td>UnitedHealth</td>\n",
       "      <td>based on 45 salaries</td>\n",
       "      <td>₹ 13.3L</td>\n",
       "      <td>₹ 7.2L</td>\n",
       "      <td>₹ 20.5L</td>\n",
       "      <td>2-4 yrs exp</td>\n",
       "    </tr>\n",
       "    <tr>\n",
       "      <th>5</th>\n",
       "      <td>Verizon</td>\n",
       "      <td>based on 14 salaries</td>\n",
       "      <td>₹ 12.7L</td>\n",
       "      <td>₹ 10.0L</td>\n",
       "      <td>₹ 21.0L</td>\n",
       "      <td>4 yrs exp</td>\n",
       "    </tr>\n",
       "    <tr>\n",
       "      <th>6</th>\n",
       "      <td>Ganit Business Solutions</td>\n",
       "      <td>based on 12 salaries</td>\n",
       "      <td>₹ 12.4L</td>\n",
       "      <td>₹ 8.5L</td>\n",
       "      <td>₹ 15.0L</td>\n",
       "      <td>4 yrs exp</td>\n",
       "    </tr>\n",
       "    <tr>\n",
       "      <th>7</th>\n",
       "      <td>Deloitte</td>\n",
       "      <td>based on 45 salaries</td>\n",
       "      <td>₹ 11.2L</td>\n",
       "      <td>₹ 6.9L</td>\n",
       "      <td>₹ 20.5L</td>\n",
       "      <td>2-4 yrs exp</td>\n",
       "    </tr>\n",
       "    <tr>\n",
       "      <th>8</th>\n",
       "      <td>Ernst &amp; Young</td>\n",
       "      <td>based on 26 salaries</td>\n",
       "      <td>₹ 11.1L</td>\n",
       "      <td>₹ 6.0L</td>\n",
       "      <td>₹ 20.0L</td>\n",
       "      <td>3-4 yrs exp</td>\n",
       "    </tr>\n",
       "    <tr>\n",
       "      <th>9</th>\n",
       "      <td>Ericsson</td>\n",
       "      <td>based on 43 salaries</td>\n",
       "      <td>₹ 10.9L</td>\n",
       "      <td>₹ 5.0L</td>\n",
       "      <td>₹ 21.5L</td>\n",
       "      <td>3-4 yrs exp</td>\n",
       "    </tr>\n",
       "  </tbody>\n",
       "</table>\n",
       "</div>"
      ],
      "text/plain": [
       "               Company Name          Total Salary Average Salary  \\\n",
       "0                  Ab Inbev  based on 10 salaries        ₹ 19.4L   \n",
       "1                     Optum  based on 22 salaries        ₹ 15.1L   \n",
       "2         Fractal Analytics  based on 60 salaries        ₹ 14.7L   \n",
       "3           Tiger Analytics  based on 24 salaries        ₹ 13.4L   \n",
       "4              UnitedHealth  based on 45 salaries        ₹ 13.3L   \n",
       "5                   Verizon  based on 14 salaries        ₹ 12.7L   \n",
       "6  Ganit Business Solutions  based on 12 salaries        ₹ 12.4L   \n",
       "7                  Deloitte  based on 45 salaries        ₹ 11.2L   \n",
       "8             Ernst & Young  based on 26 salaries        ₹ 11.1L   \n",
       "9                  Ericsson  based on 43 salaries        ₹ 10.9L   \n",
       "\n",
       "  Minimum Salary Maximum Salary Experience Required  \n",
       "0        ₹ 15.0L        ₹ 23.0L           4 yrs exp  \n",
       "1        ₹ 11.0L        ₹ 21.3L         3-4 yrs exp  \n",
       "2         ₹ 9.0L        ₹ 20.8L         2-4 yrs exp  \n",
       "3         ₹ 8.3L        ₹ 18.5L         3-4 yrs exp  \n",
       "4         ₹ 7.2L        ₹ 20.5L         2-4 yrs exp  \n",
       "5        ₹ 10.0L        ₹ 21.0L           4 yrs exp  \n",
       "6         ₹ 8.5L        ₹ 15.0L           4 yrs exp  \n",
       "7         ₹ 6.9L        ₹ 20.5L         2-4 yrs exp  \n",
       "8         ₹ 6.0L        ₹ 20.0L         3-4 yrs exp  \n",
       "9         ₹ 5.0L        ₹ 21.5L         3-4 yrs exp  "
      ]
     },
     "execution_count": 223,
     "metadata": {},
     "output_type": "execute_result"
    }
   ],
   "source": [
    "df10=pd.DataFrame({'Company Name':company10,'Total Salary':total_sal10,'Average Salary':avg_sal10,'Minimum Salary':min_sal,'Maximum Salary':max_sal, 'Experience Required':exp_req})\n",
    "df10"
   ]
  },
  {
   "cell_type": "code",
   "execution_count": null,
   "id": "5dd399e8",
   "metadata": {},
   "outputs": [],
   "source": []
  }
 ],
 "metadata": {
  "kernelspec": {
   "display_name": "Python 3",
   "language": "python",
   "name": "python3"
  },
  "language_info": {
   "codemirror_mode": {
    "name": "ipython",
    "version": 3
   },
   "file_extension": ".py",
   "mimetype": "text/x-python",
   "name": "python",
   "nbconvert_exporter": "python",
   "pygments_lexer": "ipython3",
   "version": "3.8.8"
  }
 },
 "nbformat": 4,
 "nbformat_minor": 5
}
